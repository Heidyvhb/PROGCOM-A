{
  "nbformat": 4,
  "nbformat_minor": 0,
  "metadata": {
    "colab": {
      "provenance": []
    },
    "kernelspec": {
      "name": "python3",
      "display_name": "Python 3"
    },
    "language_info": {
      "name": "python"
    }
  },
  "cells": [
    {
      "cell_type": "markdown",
      "source": [
        "## Angélica Lucía Picón Pérez\n",
        "U00181171\n",
        "\n",
        "### Switches\n",
        "Estructuras de selección que sirven para evaluar más de una condición de verdad y ofrecer diferentes evaluaciones de verdad\n",
        "\n",
        "```\n",
        "if (condición):\n",
        "  Aquí entra si la condición es verdadera\n",
        "\n",
        "elif (condición2):\n",
        "  Aquí entra si la condición2 es verdadera\n",
        "\n",
        "elif (condición3):\n",
        "  Aquí entra si la condición3 es verdadera\n",
        "\n",
        "else:\n",
        "  Aquí va cuando ninguna de las condiciones es verdadera\n",
        "\n",
        "```\n",
        "Versión 2:\n",
        "\n",
        "```\n",
        "match(variable):\n",
        "  case(valor):\n",
        "    aqui pasa algo si variable = valor\n",
        "  \n",
        "  case(valor2):\n",
        "    aqui pasa algo si variable = valor2\n",
        "  \n",
        "  case(valor3):\n",
        "    aqui pasa algo si variable = valor3\n",
        "  \n",
        "  case(valorn):\n",
        "    aqui pasa algo si variable = valorn\n",
        "  \n",
        "  case_: Ninguna de las anteriores\n",
        "```"
      ],
      "metadata": {
        "id": "ne17HhZdCWZA"
      }
    },
    {
      "cell_type": "code",
      "source": [
        "if opc== \"BROWNIE\": print(f\"usted eligio {opc} y debe pagar $4500\")\n",
        "elif opc== \"CHOCOLATE\": print(f\"usted eligio {opc} y debe pagar $4000\")\n",
        "elif opc== \"FRESA\": print(f\"usted eligio {opc} y debe pagar $3500\")\n",
        "elif opc== \"VAINILLA\": print(f\"usted eligio {opc} y debe pagar $3000\")\n",
        "else: print(\"No tenemos ese sabor :/\")"
      ],
      "metadata": {
        "id": "fDHTFCMZJLJ5"
      },
      "execution_count": null,
      "outputs": []
    },
    {
      "cell_type": "code",
      "source": [
        "match opc:\n",
        "  case \"BROWNIE\": print(f\"usted eligio {opc} y debe pagar $4500\")\n",
        "  case \"CHOCOLATE\": print(f\"usted eligio {opc} y debe pagar $4000\")\n",
        "  case \"FRESA\": print(f\"usted eligio {opc} y debe pagar $3500\")\n",
        "  case \"VAINILLA\": print(f\"usted eligio {opc} y debe pagar $3000\")\n",
        "  case _: print(\"No tenemos ese sabor :/\")"
      ],
      "metadata": {
        "id": "kv4YgwacLhDu"
      },
      "execution_count": null,
      "outputs": []
    },
    {
      "cell_type": "code",
      "execution_count": null,
      "metadata": {
        "id": "XWcsPgGZCOYT"
      },
      "outputs": [],
      "source": [
        "# Verificar si un número es par o impar con elif\n",
        "num = int(input(\"Ingrese un número: \"))\n",
        "\n",
        "if num % 2 == 0:\n",
        "    print(f\"{num} es un número par.\")\n",
        "elif num % 2 != 0:\n",
        "    print(f\"{num} es un número impar.\")"
      ]
    },
    {
      "cell_type": "code",
      "source": [
        "# Determinar si un número es par o impar usando match-case\n",
        "num = int(input(\"Ingrese un número: \"))\n",
        "\n",
        "match num % 2:\n",
        "    case 0:\n",
        "        print(f\"El número {num} es par.\")\n",
        "    case _:\n",
        "        print(f\"El número {num} es impar.\")"
      ],
      "metadata": {
        "id": "brnPcDSWIxAY"
      },
      "execution_count": null,
      "outputs": []
    },
    {
      "cell_type": "code",
      "source": [
        "#Crea un programa que determine si un año es bisiesto (divisible por 4 y no por 100, o divisible por 400).\n",
        "#elif\n",
        "año= int(input(\"Ingrese un año.\"))\n",
        "if año%4==0 and año%100!=0 or año%400==0:\n",
        "  print(f\"{año} es bisiesto\")\n",
        "\n",
        "else:\n",
        "  print(f\"{año} no es bisiesto\")"
      ],
      "metadata": {
        "id": "eig1rCgQI0sQ"
      },
      "execution_count": null,
      "outputs": []
    },
    {
      "cell_type": "code",
      "source": [
        "#Crea un programa que determine si un año es bisiesto (divisible por 4 y no por 100, o divisible por 400).\n",
        "#case\n",
        "match año%4:\n",
        "  case 0:\n",
        "    print(f\"{año} es bisiesto\")\n",
        "\n",
        "  case _:\n",
        "    print(f\"{año} no es bisiesto\")"
      ],
      "metadata": {
        "id": "N5S9nwL_I8oA"
      },
      "execution_count": null,
      "outputs": []
    },
    {
      "cell_type": "code",
      "source": [
        "#Escribe un programa que solicite el nombre del usuario y determine si una persona pertenece a la tercera edad (70 años o más) y si se cumple la condición, imprima que se le da prioridad en la fila.\n",
        "#elif\n",
        "nom= input(\"Ingrese su nombre \")\n",
        "edad= int(input(\"Ingrese su edad \"))\n",
        "\n",
        "if edad>=70:\n",
        "  print(f\"{nom} usted tiene prioridad en la fila\")\n",
        "\n",
        "else:\n",
        "  print(f\"{nom} no tiene prioridad en la fila, espere\")"
      ],
      "metadata": {
        "id": "YTp1cp5fI9pg"
      },
      "execution_count": null,
      "outputs": []
    },
    {
      "cell_type": "code",
      "source": [
        "#Escribe un programa que solicite el nombre del usuario y determine si una persona pertenece a la tercera edad (70 años o más) y si se cumple la condición, imprima que se le da prioridad en la fila.\n",
        "#case\n",
        "match edad>=70:\n",
        "  case True:\n",
        "    print(f\"{nom} usted tiene prioridad en la fila\")\n",
        "\n",
        "  case _:\n",
        "    print(f\"{nom} no tiene prioridad en la fila, espere\")"
      ],
      "metadata": {
        "id": "Of2xwdgrI_Ug"
      },
      "execution_count": null,
      "outputs": []
    },
    {
      "cell_type": "code",
      "source": [
        "# Programa para determinar el número mayor entre tres valores ingresados\n",
        "n1 = int(input(\"Digite el primer número: \"))\n",
        "n2 = int(input(\"Digite el segundo número: \"))\n",
        "n3 = int(input(\"Digite el tercer número: \"))\n",
        "\n",
        "if n1 == n2 == n3:\n",
        "    print(\"Los tres números son iguales.\")\n",
        "\n",
        "elif n1 >= n2 and n1 >= n3:\n",
        "    print(f\"El mayor número es {n1}\")\n",
        "\n",
        "elif n2 >= n1 and n2 >= n3:\n",
        "    print(f\"El mayor número es {n2}\")\n",
        "\n",
        "else:\n",
        "    print(f\"El mayor número es {n3}\")\n",
        "\n",
        "# Identificar si hay números iguales pero no todos\n",
        "if n1 == n2 and n1 > n3:\n",
        "    print(f\"{n1} y {n2} son iguales y mayores que {n3}\")\n",
        "elif n1 == n3 and n1 > n2:\n",
        "    print(f\"{n1} y {n3} son iguales y mayores que {n2}\")\n",
        "elif n2 == n3 and n2 > n1:\n",
        "    print(f\"{n2} y {n3} son iguales y mayores que {n1}\")"
      ],
      "metadata": {
        "id": "U6WvVzQeI_0Q"
      },
      "execution_count": null,
      "outputs": []
    },
    {
      "cell_type": "code",
      "source": [
        "# Programa para encontrar el mayor de tres números usando match-case\n",
        "n1 = int(input(\"Digite el primer número: \"))\n",
        "n2 = int(input(\"Digite el segundo número: \"))\n",
        "n3 = int(input(\"Digite el tercer número: \"))\n",
        "\n",
        "match (n1, n2, n3):\n",
        "    case (a, b, c) if a > b and a > c:\n",
        "        print(f\"El número mayor es {a}\")\n",
        "\n",
        "    case (a, b, c) if b > a and b > c:\n",
        "        print(f\"El número mayor es {b}\")\n",
        "\n",
        "    case (a, b, c) if c > a and c > b:\n",
        "        print(f\"El número mayor es {c}\")\n",
        "\n",
        "    case (a, b, c) if a == b > c:\n",
        "        print(f\"{a} y {b} son los mayores, y {c} es el menor\")\n",
        "\n",
        "    case (a, b, c) if a == c > b:\n",
        "        print(f\"{a} y {c} son los mayores, y {b} es el menor\")\n",
        "\n",
        "    case (a, b, c) if b == c > a:\n",
        "        print(f\"{b} y {c} son los mayores, y {a} es el menor\")\n",
        "\n",
        "    case _:\n",
        "        print(\"Todos los números son iguales\")"
      ],
      "metadata": {
        "id": "q0gXBDCMJALy"
      },
      "execution_count": null,
      "outputs": []
    },
    {
      "cell_type": "code",
      "source": [
        "#Crea un programa que determine si un triángulo es equilátero, isósceles o escaleno según sus lados.\n",
        "#elif\n",
        "l1= int(input(\"Ingrese el primer lado.\"))\n",
        "l2= int(input(\"Ingrese el segundo lado.\"))\n",
        "l3= int(input(\"Ingrese el tercer lado.\"))\n",
        "\n",
        "if l1==l2 and l2==l3:\n",
        "  print(\"El triángulo es equilátero\")\n",
        "\n",
        "elif l1 != l2 and l2 != l3 and l1 != l3:\n",
        "  print(\"El triángulo es escaleno\")\n",
        "\n",
        "else:\n",
        "  print(\"El triángulo es isósceles\")"
      ],
      "metadata": {
        "id": "XAjlD9Q09ISA"
      },
      "execution_count": null,
      "outputs": []
    },
    {
      "cell_type": "code",
      "source": [
        "# Programa para clasificar un triángulo según sus lados\n",
        "lado1 = int(input(\"Ingrese el primer lado del triángulo: \"))\n",
        "lado2 = int(input(\"Ingrese el segundo lado del triángulo: \"))\n",
        "lado3 = int(input(\"Ingrese el tercer lado del triángulo: \"))\n",
        "\n",
        "match (lado1, lado2, lado3):\n",
        "    case (a, b, c) if a == b == c:\n",
        "        print(\"El triángulo es equilátero\")\n",
        "\n",
        "    case (a, b, c) if a != b and b != c and a != c:\n",
        "        print(\"El triángulo es escaleno\")\n",
        "\n",
        "    case _:\n",
        "        print(\"El triángulo es isósceles\")"
      ],
      "metadata": {
        "id": "FKmQXzhxJA7K"
      },
      "execution_count": null,
      "outputs": []
    }
  ]
}