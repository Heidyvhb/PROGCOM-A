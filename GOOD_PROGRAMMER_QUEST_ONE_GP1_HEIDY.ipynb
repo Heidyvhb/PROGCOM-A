import random

# Diccionario para asignar emojis a las opciones
emoji = {"piedra": "🪨", "papel": "📄", "tijera": "✂️"}

def menu():
    print("¿Quieres jugar piedra, papel o tijera?")
    print("--- Seleccione una opción ---")
    print("1) Sí")
    print("2) No")
    opcion = input("-> Opción: ")
    return opcion

def jugador():
    lista = ["piedra", "papel", "tijera"]
    computador = random.choice(lista)

    print("1) 🪨 PIEDRA")
    print("2) 📄 PAPEL")
    print("3) ✂️ TIJERA")
    op = input("--> Opción: ")

    while op not in ["1", "2", "3"]:
        print("Opción no válida, intenta nuevamente.")
        op = input("---> Opción: ")

    jugador = lista[int(op) - 1]

    print(f"Computador: {emoji[computador]} ({computador}) vs Jugador: {emoji[jugador]} ({jugador})")

    if jugador == computador:
        print("---------> EMPATE <---------")
    elif (jugador == "piedra" and computador == "tijera") or \
         (jugador == "papel" and computador == "piedra") or \
         (jugador == "tijera" and computador == "papel"):
        print("------------> GANASTE 🎉 <-------------")
    else:
        print("------------> PERDISTE 😢 <-------------")

while True:
    opcion = menu()
    if opcion == "1":
        jugador()
    elif opcion == "2":
        print("---------- GRACIAS POR JUGAR 🎮 ----------")
        break
    else:
        print("********** Opción no válida :( ***********")
        print("++++++++++ No se pase de list@ +++++++++++")
