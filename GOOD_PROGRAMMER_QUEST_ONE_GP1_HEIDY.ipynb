{
  "nbformat": 4,
  "nbformat_minor": 0,
  "metadata": {
    "colab": {
      "provenance": []
    },
    "kernelspec": {
      "name": "python3",
      "display_name": "Python 3"
    },
    "language_info": {
      "name": "python"
    }
  },
  "cells": [
    {
      "cell_type": "code",
      "source": [
        "import random\n",
        "#juego de piedra papel o tijera\n",
        "def menu():\n",
        "  print(\"quieres jugar piedra papel o tijera: \")\n",
        "  print(\"---selecione la opcion---\")\n",
        "  print(\"1)--------si-------\")\n",
        "  print(\"2)--------no-------\")\n",
        "  opcion=str(input(\"->opcion: \"))\n",
        "  return opcion\n",
        "\n",
        "def Opciones(msg, defecto):\n",
        "  op = input(f\"{msg}\\nOpcion: \").lower()\n",
        "  if op != \"1\" and op != \"2\":\n",
        "    op = defecto\n",
        "  return op\n",
        "\n",
        "def jugador():\n",
        "  lista=[\"piedra\", \"papel\", \"tijera\"]\n",
        "  computador=random.choice(lista)\n",
        "\n",
        "  print(\"1)---PIEDRA---\")\n",
        "  print(\"2)---PAPEL---\")\n",
        "  print(\"3)---TIJERA---\")\n",
        "  op=input(\"--> Opcion: \")\n",
        "\n",
        "  while op not in [\"1\",\"2\",\"3\"]:\n",
        "      print(\"opcion no valida, intenta nuevamente \")\n",
        "      op=input(\"---> Opcion: \")\n",
        "\n",
        "  jugador=lista[int(op)-1]\n",
        "\n",
        "  print(\"computador: \",computador,\" vs \",\" jugador :\",jugador)\n",
        "\n",
        "  if jugador==computador:\n",
        "    print(\"---------> EMPATE <---------\")\n",
        "  elif(jugador==\"piedra \"and computador==\"tijera\") or\\\n",
        "      (jugador==\"papel \"and computador==\"piedra\") or\\\n",
        "      (jugador==\"tijera \"and computador==\"papel\"):\n",
        "      print(\"------------> GANASTE <-------------\")\n",
        "  else:\n",
        "    print(\"------------> PERDISTE <-------------\")\n",
        "\n",
        "while True:\n",
        "  opcion=menu()\n",
        "  if opcion==\"1\":\n",
        "    jugador()\n",
        "  elif opcion==\"2\":\n",
        "    print(\"---------- GRACIAS ----------\")\n",
        "    break\n",
        "  else:\n",
        "    print(\"**********opcion no valida :( ***********\")\n",
        "    print(\"++++++++++ no se pase de list@ +++++++++++\")\n"
      ],
      "metadata": {
        "colab": {
          "base_uri": "https://localhost:8080/"
        },
        "id": "8laAhnzN4ncU",
        "outputId": "517d0009-c7ec-424b-d8ca-f7a652f2ee9d"
      },
      "execution_count": 2,
      "outputs": [
        {
          "output_type": "stream",
          "name": "stdout",
          "text": [
            "quieres jugar piedra papel o tijera: \n",
            "---selecione la opcion---\n",
            "1)--------si-------\n",
            "2)--------no-------\n",
            "->opcion: 1\n",
            "1)---PIEDRA---\n",
            "2)---PAPEL---\n",
            "3)---TIJERA---\n",
            "--> Opcion: 1\n",
            "computador:  tijera  vs   jugador : piedra\n",
            "------------> PERDISTE <-------------\n",
            "quieres jugar piedra papel o tijera: \n",
            "---selecione la opcion---\n",
            "1)--------si-------\n",
            "2)--------no-------\n",
            "->opcion: 3\n",
            "**********opcion no valida :( ***********\n",
            "++++++++++ no se pase de list@ +++++++++++\n",
            "quieres jugar piedra papel o tijera: \n",
            "---selecione la opcion---\n",
            "1)--------si-------\n",
            "2)--------no-------\n",
            "->opcion: 2\n",
            "---------- GRACIAS ----------\n"
          ]
        }
      ]
    }
  ]
}