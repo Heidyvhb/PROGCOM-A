{
  "nbformat": 4,
  "nbformat_minor": 0,
  "metadata": {
    "colab": {
      "provenance": []
    },
    "kernelspec": {
      "name": "python3",
      "display_name": "Python 3"
    },
    "language_info": {
      "name": "python"
    }
  },
  "cells": [
    {
      "cell_type": "code",
      "execution_count": null,
      "metadata": {
        "id": "VqQxpNCHMCSV"
      },
      "outputs": [],
      "source": [
        "usuarios={}\n",
        "\n",
        "def calcular(peso,altura):\n",
        "  imc = peso/(altura**2)\n",
        "  if imc <= 18.5:\n",
        "    descripcion = \"Bajo peso\"\n",
        "  elif imc <= 24.9:\n",
        "    descripcion = \"Peso normal\"\n",
        "  elif imc <= 29.9:\n",
        "    descripcion = \"Sobrepeso\"\n",
        "  else:\n",
        "    descripcion = \"Obesidad\"\n",
        "  return round(imc,2), descripcion\n",
        "\n",
        "  #pedir los datos a los usuarios\n",
        "while True:\n",
        "    nombre = input(\"Ingrese el nombre (o 'salir' para terminar): \")\n",
        "    if nombre.lower() == \"salir\":\n",
        "        break\n",
        "\n",
        "    try:\n",
        "        altura = float(input(\"Ingrese la altura en metros: \"))\n",
        "        peso = float(input(\"Ingrese el peso en kg: \"))\n",
        "\n",
        "        imc, descripcion = calcular(peso, altura)\n",
        "\n",
        "        # Almacenar en el diccionario\n",
        "        usuarios[nombre] = {\n",
        "            \"altura\": altura,\n",
        "            \"peso\": peso,\n",
        "            \"imc\": imc,\n",
        "            \"descripcion\": descripcion\n",
        "        }\n",
        "\n",
        "        print(f\"{nombre} registrado con IMC={imc} ({descripcion})\\n\")\n",
        "\n",
        "    except ValueError:\n",
        "        print(\"Error: Ingrese valores numéricos válidos para altura y peso.\\n\")\n",
        "\n",
        "    # Mostrar los datos almacenados\n",
        "print(\"\\n--- Resultados Finales ---\")\n",
        "for nombre, datos in usuarios.items():\n",
        "  print(f\"{nombre}: Altura={datos['altura']}m, Peso={datos['peso']}kg, IMC={datos['imc']} ({datos['descripcion']})\")"
      ]
    }
  ]
}