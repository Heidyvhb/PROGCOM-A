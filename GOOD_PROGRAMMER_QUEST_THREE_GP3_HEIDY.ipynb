{
  "nbformat": 4,
  "nbformat_minor": 0,
  "metadata": {
    "colab": {
      "provenance": []
    },
    "kernelspec": {
      "name": "python3",
      "display_name": "Python 3"
    },
    "language_info": {
      "name": "python"
    }
  },
  "cells": [
    {
      "cell_type": "code",
      "execution_count": null,
      "metadata": {
        "colab": {
          "base_uri": "https://localhost:8080/"
        },
        "id": "fCFC44dtBk0L",
        "outputId": "59d20a63-4b1a-4010-a0e0-9bb58e7070d1"
      },
      "outputs": [
        {
          "name": "stdout",
          "output_type": "stream",
          "text": [
            "Lista de productos:\n",
            "1. Pan - $1.00\n",
            "2. Leche - $1.50\n",
            "3. Huevos - $2.00\n",
            "4. Arroz - $1.20\n",
            "5. Carne - $5.00\n",
            "6. Pasta - $1.30\n",
            "7. Azúcar - $1.10\n",
            "8. Sal - $0.50\n",
            "9. Aceite - $3.00\n",
            "10. Queso - $4.00\n",
            "Elige un producto (número) o escribe 'fin' para terminar: 6\n",
            "¿Cuántos quieres?: 4\n"
          ]
        }
      ],
      "source": [
        "import json\n",
        "\n",
        "# Clase que representa un producto\n",
        "class Producto:\n",
        "    def __init__(self, nombre, precio):\n",
        "        self.nombre = nombre  # Nombre del producto\n",
        "        self.precio = precio  # Precio del producto\n",
        "\n",
        "# Clase que maneja el cajero\n",
        "class Cajero:\n",
        "    def __init__(self):\n",
        "        self.lista_productos = []  # Lista de productos\n",
        "        self.cargar_productos()\n",
        "        self.ventas_del_dia = []  # Lista de ventas\n",
        "\n",
        "    # Cargar productos desde un archivo o crear una lista\n",
        "    def cargar_productos(self):\n",
        "        try:\n",
        "            with open(\"productos.json\", \"r\") as archivo:\n",
        "                datos = json.load(archivo)\n",
        "                self.lista_productos = [Producto(p[\"nombre\"], p[\"precio\"]) for p in datos]\n",
        "        except FileNotFoundError:\n",
        "            self.lista_productos = [\n",
        "                Producto(\"Pan\", 1.0), Producto(\"Leche\", 1.5), Producto(\"Huevos\", 2.0),\n",
        "                Producto(\"Arroz\", 1.2), Producto(\"Carne\", 5.0), Producto(\"Pasta\", 1.3),\n",
        "                Producto(\"Azúcar\", 1.1), Producto(\"Sal\", 0.5), Producto(\"Aceite\", 3.0),\n",
        "                Producto(\"Queso\", 4.0)\n",
        "            ]\n",
        "            self.guardar_productos()\n",
        "\n",
        "    # Guardar los productos en un archivo\n",
        "    def guardar_productos(self):\n",
        "        with open(\"productos.json\", \"w\") as archivo:\n",
        "            json.dump([{\"nombre\": p.nombre, \"precio\": p.precio} for p in self.lista_productos], archivo)\n",
        "\n",
        "    # Mostrar los productos disponibles\n",
        "    def mostrar_productos(self):\n",
        "        print(\"Lista de productos:\")\n",
        "        for i, p in enumerate(self.lista_productos):\n",
        "            print(f\"{i+1}. {p.nombre} - ${p.precio:.2f}\")\n",
        "\n",
        "    # Realizar una compra\n",
        "    def comprar(self):\n",
        "        carrito = []  # Lista para guardar lo que el usuario compra\n",
        "        self.mostrar_productos()\n",
        "        while True:\n",
        "            opcion = input(\"Elige un producto (número) o escribe 'fin' para terminar: \")\n",
        "            if opcion.lower() == \"fin\":\n",
        "                break\n",
        "            if not opcion.isdigit() or int(opcion) not in range(1, len(self.lista_productos) + 1):\n",
        "                print(\"Opción no válida, intenta de nuevo.\")\n",
        "                continue\n",
        "            cantidad = int(input(\"¿Cuántos quieres?: \"))\n",
        "            producto = self.lista_productos[int(opcion) - 1]\n",
        "            carrito.append((producto, cantidad))\n",
        "\n",
        "        self.generar_factura(carrito)\n",
        "\n",
        "    # Generar la factura y mostrar el total\n",
        "    def generar_factura(self, carrito):\n",
        "        total = sum(p.precio * c for p, c in carrito)\n",
        "        print(\"\\nFactura de compra:\")\n",
        "        for p, c in carrito:\n",
        "            print(f\"{p.nombre} x{c} - ${p.precio * c:.2f}\")\n",
        "        print(f\"Total a pagar: ${total:.2f}\\n\")\n",
        "        self.ventas_del_dia.append(total)\n",
        "        self.guardar_ventas()\n",
        "\n",
        "    # Guardar las ventas en un archivo\n",
        "    def guardar_ventas(self):\n",
        "        with open(\"ventas.json\", \"w\") as archivo:\n",
        "            json.dump(self.ventas_del_dia, archivo)\n",
        "        print(\"Ventas guardadas correctamente.\")\n",
        "\n",
        "# Crear el cajero y empezar la compra\n",
        "cajero = Cajero()\n",
        "cajero.comprar()\n"
      ]
    }
  ]
}