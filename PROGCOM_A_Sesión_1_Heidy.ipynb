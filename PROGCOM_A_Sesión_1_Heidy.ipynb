{
  "nbformat": 4,
  "nbformat_minor": 0,
  "metadata": {
    "colab": {
      "provenance": []
    },
    "kernelspec": {
      "name": "python3",
      "display_name": "Python 3"
    },
    "language_info": {
      "name": "python"
    }
  },
  "cells": [
    {
      "cell_type": "markdown",
      "source": [
        "\n",
        "Heidy Valentina Blanco Hernández\n",
        "\n",
        "##estructura if\n",
        "if (condicion):\n",
        "aqui entra si la condicion es verdadera\n",
        "elif (Condicion2):\n",
        "aqui entra si la condicion2 es verdadera\n",
        "elif (condicion3):\n",
        "aqui entra si la condición3 es verdadera\n",
        "elif (condicion):\n",
        "aqui entra si la condicion n es verdadera\n",
        "else: Aqui va si ninguna de las condicones es verdadera"
      ],
      "metadata": {
        "id": "8bz_e1XjqRCc"
      }
    },
    {
      "cell_type": "code",
      "execution_count": null,
      "metadata": {
        "id": "rSzbfAg9nlpc"
      },
      "outputs": [],
      "source": [
        "# Cálculo del área de un triángulo\n",
        "altura = float(input(\"Ingresa la altura del triángulo: \"))\n",
        "base = float(input(\"Ingresa la base del triángulo: \"))\n",
        "area = (base * altura) / 2\n",
        "print(f\"El área del triángulo es: {area}\")"
      ]
    },
    {
      "cell_type": "code",
      "source": [
        "# Convierte grados Celsius a Fahrenheit\n",
        "num = float(input(\"Ingrese la temperatura en grados Celsius: \"))\n",
        "print(f\"La temperatura en grados Fahrenheit es: {(num * 9/5) + 32}\")"
      ],
      "metadata": {
        "id": "qwFaFwHpswFz"
      },
      "execution_count": null,
      "outputs": []
    },
    {
      "cell_type": "code",
      "source": [
        "# Calcula el promedio de tres valores ingresados\n",
        "a = float(input(\"Digite el primer valor: \"))\n",
        "b = float(input(\"Digite el segundo valor: \"))\n",
        "c = float(input(\"Digite el tercer valor: \"))\n",
        "promedio = (a + b + c) / 3\n",
        "print(f\"El valor promedio es: {promedio:.2f}\")"
      ],
      "metadata": {
        "id": "h9Nn2HcytOaV"
      },
      "execution_count": null,
      "outputs": []
    },
    {
      "cell_type": "code",
      "source": [
        "# Calcula el perímetro y el área de un círculo a partir de su radio\n",
        "radio = float(input(\"Digite el radio del círculo: \"))\n",
        "pi = 3.1416\n",
        "perimetro = 2 * pi * radio\n",
        "area = pi * radio ** 2\n",
        "print(f\"Perímetro: {perimetro:.2f}\")\n",
        "print(f\"Área: {area:.2f}\")"
      ],
      "metadata": {
        "id": "DJke1WiNuCSS"
      },
      "execution_count": null,
      "outputs": []
    },
    {
      "cell_type": "code",
      "source": [
        "#Crea un programa que resuelva una ecuación cuadrática (ax² + bx + c = 0) pidiendo los valores de a, b y c.\n",
        "a=float(input(\"ingrese el valor de a:\"))\n",
        "b=float(input(\"ingrese el valor de b:\"))\n",
        "c=float(input(\"ingrese el valor de c:\"))\n",
        "print(f\"la ecuación es: {a}x²+{b}x+{c}=0\")\n",
        "print(f\"la solución de la ecuación es: {(-b+(b**2-4*a*c)**1/2)/(2*a)} y {(-b-(b**2-4*a*c)**1/2)/(2*a)}\")"
      ],
      "metadata": {
        "id": "hVwbr35sufTQ"
      },
      "execution_count": null,
      "outputs": []
    },
    {
      "cell_type": "code",
      "source": [
        "# Programa para verificar si un número es par o impar\n",
        "numero = int(input(\"Introduce un número entero: \"))\n",
        "\n",
        "# Verificamos si el número es par o impar\n",
        "if numero % 2 == 0:\n",
        "    print(f\"El número {numero} es par.\")\n",
        "else:\n",
        "    print(f\"El número {numero} es impar.\")"
      ],
      "metadata": {
        "id": "J902cSVAu8-v"
      },
      "execution_count": null,
      "outputs": []
    },
    {
      "cell_type": "code",
      "source": [
        "# Verificar si un número es par o impar usando operador ternario\n",
        "num = int(input(\"Introduce un número: \"))\n",
        "print(f\"El número {num} es {'par' if num % 2 == 0 else 'impar'}.\")"
      ],
      "metadata": {
        "id": "k93ptLMqqQR5"
      },
      "execution_count": null,
      "outputs": []
    },
    {
      "cell_type": "code",
      "source": [
        "# Determinar si un año es bisiesto\n",
        "año = int(input(\"Introduce un año: \"))\n",
        "\n",
        "if (año % 4 == 0 and año % 100 != 0) or (año % 400 == 0):\n",
        "    print(f\"El año {año} es bisiesto.\")\n",
        "else:\n",
        "    print(f\"El año {año} no es bisiesto.\")"
      ],
      "metadata": {
        "id": "d8kzT1mtvSYY"
      },
      "execution_count": null,
      "outputs": []
    },
    {
      "cell_type": "code",
      "source": [
        "#Crea un programa que determine si un año es bisiesto (divisible por 4 y no por 100, o divisible por 400).\n",
        "#if ternario\n",
        "año=int(input(\"ingrese un año:\"))\n",
        "print(f\"{año} es bisiesto\") if año%4==0 and año%100!=0 else print(f\"{año} no es bisiesto\")"
      ],
      "metadata": {
        "id": "d77trYulv1nh"
      },
      "execution_count": null,
      "outputs": []
    },
    {
      "cell_type": "code",
      "source": [
        "#Escribe un programa que solicite el nombre del usuario y determine si una persona pertenece a la tercera edad (70 años o más) y si se cumple la condición, imprima que se le da prioridad en la fila.\n",
        "#if normal\n",
        "nom=input(\"ingrese su nombre:\")\n",
        "edad=int(input(\"ingrese su edad:\"))\n",
        "if edad>=70:\n",
        "  print(f\"{nom}, usted se encuentra en la tercera edad y se le da prioridad en la fila.\")\n",
        "else:\n",
        "  print(f\"{nom}, usted no tiene prioridad en la fila, espere en la fila.\")"
      ],
      "metadata": {
        "id": "L6t4CrAKwBi8"
      },
      "execution_count": null,
      "outputs": []
    },
    {
      "cell_type": "code",
      "source": [
        "#Escribe un programa que solicite el nombre del usuario y determine si una persona pertenece a la tercera edad (70 años o más) y si se cumple la condición, imprima que se le da prioridad en la fila.\n",
        "#if ternario\n",
        "nom= input(\"ingrese su nombre:\")\n",
        "edad= int(input(\"ingrese su edad:\"))\n",
        "print(f\"{nom}, usted se encuentra en la tercera edad y se le da prioridad en la fila.\") if edad>=70 else print(f\"{nom}, usted no tiene prioridad en la fila, espere en la fila.\")"
      ],
      "metadata": {
        "id": "3nEB6VBIwsMV"
      },
      "execution_count": null,
      "outputs": []
    },
    {
      "cell_type": "code",
      "source": [
        "#Desarrolla un programa que compare tres números y muestre el mayor.\n",
        "#if normal\n",
        "n1=float(input(\"ingrese el primer número:\"))\n",
        "n2=float(input(\"ingrese el segundo número:\"))\n",
        "n3=float(input(\"ingrese el tercer número:\"))\n",
        "if n1>n2 and n2>n3:\n",
        "  print(f\"el número mayor es: {n1}\")\n",
        "else:\n",
        "  if n2>n1 and n2>n3:\n",
        "    print(f\"el número mayor es: {n2}\")\n",
        "  else:\n",
        "    print(f\"el número mayor es: {n3}\")"
      ],
      "metadata": {
        "id": "Dkm4cmRIxIEe"
      },
      "execution_count": null,
      "outputs": []
    },
    {
      "cell_type": "code",
      "source": [
        "#Desarrolla un programa que compare tres números y muestre el mayor.\n",
        "#if ternario\n",
        "n1=float(input(\"ingrese el primer número:\"))\n",
        "n2=float(input(\"ingrese el segundo número:\"))\n",
        "n3=float(input(\"ingrese el tercer número:\"))\n",
        "print(f\"el número mayor es: {n1}\") if n1>n2 and n2>n3 else print(f\"el número mayor es: {n2}\") if n2>n1 and n2>n3 else print(f\"el número mayor es: {n3}\")"
      ],
      "metadata": {
        "id": "B7AUHdwFxz4H"
      },
      "execution_count": null,
      "outputs": []
    },
    {
      "cell_type": "code",
      "source": [
        "#Crea un programa que determine si un triángulo es equilátero, isósceles o escaleno según sus lados.\n",
        "#if normal\n",
        "l1=float(input(\"ingrese el primer lado del triángulo:\"))\n",
        "l2=float(input(\"ingrese el segundo lado del triángulo:\"))\n",
        "l3=float(input(\"ingrese el tercer lado del triángulo:\"))\n",
        "if l1==l2 and l2==l3:\n",
        "  print(\"el triángulo es equilátero\")\n",
        "else:\n",
        "  if l1==l2 or l2==l3 or l1==l3:\n",
        "    print(\"el triángulo es isósceles\")\n",
        "  else:\n",
        "    print(\"el triángulo es escaleno\")"
      ],
      "metadata": {
        "id": "ztgHmENzyLpD"
      },
      "execution_count": null,
      "outputs": []
    },
    {
      "cell_type": "code",
      "source": [
        "#Crea un programa que determine si un triángulo es equilátero, isósceles o escaleno según sus lados.\n",
        "#if ternario\n",
        "l1=float(input(\"ingrese el primer lado del triángulo:\"))\n",
        "l2=float(input(\"ingrese el segundo lado del triángulo:\"))\n",
        "l3=float(input(\"ingrese el tercer lado del triángulo:\"))\n",
        "print(\"el triángulo es equilátero\") if l1==l2 and l2==l3 else print(\"el triángulo es isósceles\") if l1==l2 or l2==l3 or l1==l3 else print(\"el triángulo es escaleno\")"
      ],
      "metadata": {
        "id": "NwlYkElxyWTS"
      },
      "execution_count": null,
      "outputs": []
    }
  ]
}