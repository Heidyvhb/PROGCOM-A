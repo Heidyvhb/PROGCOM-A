{
  "nbformat": 4,
  "nbformat_minor": 0,
  "metadata": {
    "colab": {
      "provenance": []
    },
    "kernelspec": {
      "name": "python3",
      "display_name": "Python 3"
    },
    "language_info": {
      "name": "python"
    }
  },
  "cells": [
    {
      "cell_type": "code",
      "execution_count": null,
      "metadata": {
        "id": "_ItNINeXPAHU"
      },
      "outputs": [],
      "source": [
        "#25 Crea un programa que calcule la potencia de un número sin usar el operador **\n",
        "## Función normal\n",
        "def calcular_potencia():\n",
        "    base = float(input(\"Ingrese la base: \"))\n",
        "    exponente = int(input(\"Ingrese el exponente: \"))\n",
        "\n",
        "    if exponente == 0:\n",
        "        print(f\"{base}^{exponente} = 1\")\n",
        "        return\n",
        "\n",
        "    resultado = 1\n",
        "    es_exponente_negativo = exponente < 0\n",
        "    exponente_absoluto = abs(exponente)\n",
        "\n",
        "    for _ in range(exponente_absoluto):\n",
        "        resultado *= base\n",
        "\n",
        "    if es_exponente_negativo:\n",
        "        resultado = 1 / resultado\n",
        "\n",
        "    print(f\"{base}^{exponente} = {resultado}\")\n",
        "\n",
        "calcular_potencia()"
      ]
    },
    {
      "cell_type": "code",
      "source": [
        "#25 Crea un programa que calcule la potencia de un número sin usar el operador **\n",
        "## Función lambda\n",
        "\n",
        "base = float(input(\"Ingrese la base: \"))\n",
        "exponente = int(input(\"Ingrese el exponente: \"))\n",
        "\n",
        "potencia = lambda b, e: 1 if e == 0 else (b * potencia(b, e - 1) if e > 0 else 1 / potencia(b, -e))\n",
        "\n",
        "print(f\"{base}^{exponente} = {potencia(base, exponente)}\")"
      ],
      "metadata": {
        "id": "y1e9YM5tQwMM"
      },
      "execution_count": null,
      "outputs": []
    },
    {
      "cell_type": "code",
      "source": [
        "#26 Escribe un programa que muestre todas las tablas de multiplicar del 1 al 10.\n",
        "## Función normal\n",
        "\n",
        "def imprimir_tablas():\n",
        "    for i in range(1, 11):\n",
        "        print(\"-\" * 20)\n",
        "        print(f\" Tabla del {i} \".center(20, \"-\"))\n",
        "        print(\"-\" * 20)\n",
        "        for j in range(1, 11):\n",
        "            print(f\"{i} x {j} = {i*j}\")\n",
        "        print()\n",
        "\n",
        "imprimir_tablas()"
      ],
      "metadata": {
        "colab": {
          "base_uri": "https://localhost:8080/"
        },
        "id": "kXZkuVJ5SCbh",
        "outputId": "9780cb3f-bf9f-4ad1-e693-f6f2289ed55c"
      },
      "execution_count": 1,
      "outputs": [
        {
          "output_type": "stream",
          "name": "stdout",
          "text": [
            "--------------------\n",
            "--- Tabla del 1 ----\n",
            "--------------------\n",
            "1 x 1 = 1\n",
            "1 x 2 = 2\n",
            "1 x 3 = 3\n",
            "1 x 4 = 4\n",
            "1 x 5 = 5\n",
            "1 x 6 = 6\n",
            "1 x 7 = 7\n",
            "1 x 8 = 8\n",
            "1 x 9 = 9\n",
            "1 x 10 = 10\n",
            "\n",
            "--------------------\n",
            "--- Tabla del 2 ----\n",
            "--------------------\n",
            "2 x 1 = 2\n",
            "2 x 2 = 4\n",
            "2 x 3 = 6\n",
            "2 x 4 = 8\n",
            "2 x 5 = 10\n",
            "2 x 6 = 12\n",
            "2 x 7 = 14\n",
            "2 x 8 = 16\n",
            "2 x 9 = 18\n",
            "2 x 10 = 20\n",
            "\n",
            "--------------------\n",
            "--- Tabla del 3 ----\n",
            "--------------------\n",
            "3 x 1 = 3\n",
            "3 x 2 = 6\n",
            "3 x 3 = 9\n",
            "3 x 4 = 12\n",
            "3 x 5 = 15\n",
            "3 x 6 = 18\n",
            "3 x 7 = 21\n",
            "3 x 8 = 24\n",
            "3 x 9 = 27\n",
            "3 x 10 = 30\n",
            "\n",
            "--------------------\n",
            "--- Tabla del 4 ----\n",
            "--------------------\n",
            "4 x 1 = 4\n",
            "4 x 2 = 8\n",
            "4 x 3 = 12\n",
            "4 x 4 = 16\n",
            "4 x 5 = 20\n",
            "4 x 6 = 24\n",
            "4 x 7 = 28\n",
            "4 x 8 = 32\n",
            "4 x 9 = 36\n",
            "4 x 10 = 40\n",
            "\n",
            "--------------------\n",
            "--- Tabla del 5 ----\n",
            "--------------------\n",
            "5 x 1 = 5\n",
            "5 x 2 = 10\n",
            "5 x 3 = 15\n",
            "5 x 4 = 20\n",
            "5 x 5 = 25\n",
            "5 x 6 = 30\n",
            "5 x 7 = 35\n",
            "5 x 8 = 40\n",
            "5 x 9 = 45\n",
            "5 x 10 = 50\n",
            "\n",
            "--------------------\n",
            "--- Tabla del 6 ----\n",
            "--------------------\n",
            "6 x 1 = 6\n",
            "6 x 2 = 12\n",
            "6 x 3 = 18\n",
            "6 x 4 = 24\n",
            "6 x 5 = 30\n",
            "6 x 6 = 36\n",
            "6 x 7 = 42\n",
            "6 x 8 = 48\n",
            "6 x 9 = 54\n",
            "6 x 10 = 60\n",
            "\n",
            "--------------------\n",
            "--- Tabla del 7 ----\n",
            "--------------------\n",
            "7 x 1 = 7\n",
            "7 x 2 = 14\n",
            "7 x 3 = 21\n",
            "7 x 4 = 28\n",
            "7 x 5 = 35\n",
            "7 x 6 = 42\n",
            "7 x 7 = 49\n",
            "7 x 8 = 56\n",
            "7 x 9 = 63\n",
            "7 x 10 = 70\n",
            "\n",
            "--------------------\n",
            "--- Tabla del 8 ----\n",
            "--------------------\n",
            "8 x 1 = 8\n",
            "8 x 2 = 16\n",
            "8 x 3 = 24\n",
            "8 x 4 = 32\n",
            "8 x 5 = 40\n",
            "8 x 6 = 48\n",
            "8 x 7 = 56\n",
            "8 x 8 = 64\n",
            "8 x 9 = 72\n",
            "8 x 10 = 80\n",
            "\n",
            "--------------------\n",
            "--- Tabla del 9 ----\n",
            "--------------------\n",
            "9 x 1 = 9\n",
            "9 x 2 = 18\n",
            "9 x 3 = 27\n",
            "9 x 4 = 36\n",
            "9 x 5 = 45\n",
            "9 x 6 = 54\n",
            "9 x 7 = 63\n",
            "9 x 8 = 72\n",
            "9 x 9 = 81\n",
            "9 x 10 = 90\n",
            "\n",
            "--------------------\n",
            "--- Tabla del 10 ---\n",
            "--------------------\n",
            "10 x 1 = 10\n",
            "10 x 2 = 20\n",
            "10 x 3 = 30\n",
            "10 x 4 = 40\n",
            "10 x 5 = 50\n",
            "10 x 6 = 60\n",
            "10 x 7 = 70\n",
            "10 x 8 = 80\n",
            "10 x 9 = 90\n",
            "10 x 10 = 100\n",
            "\n"
          ]
        }
      ]
    },
    {
      "cell_type": "code",
      "source": [
        "#26 Escribe un programa que muestre todas las tablas de multiplicar del 1 al 10.\n",
        "## Función lambda\n",
        "\n",
        "def imprimir_tablas():\n",
        "    limite = int(input(\"¿Hasta qué número quieres las tablas de multiplicar? \"))\n",
        "\n",
        "    for i in range(1, limite + 1):\n",
        "        print(\"-\" * 25)\n",
        "        print(f\" Tabla del {i} \".center(25, \"-\"))\n",
        "        print(\"-\" * 25)\n",
        "        for j in range(1, 11):\n",
        "            print(f\"{i:2} x {j:2} = {i*j:3}\")  # Alineación de números\n",
        "        print()\n",
        "\n",
        "imprimir_tablas()"
      ],
      "metadata": {
        "colab": {
          "base_uri": "https://localhost:8080/"
        },
        "id": "KK7Tx_emSQgZ",
        "outputId": "528762aa-4420-4495-abdb-722f8987803a"
      },
      "execution_count": 2,
      "outputs": [
        {
          "output_type": "stream",
          "name": "stdout",
          "text": [
            "¿Hasta qué número quieres las tablas de multiplicar? 5\n",
            "-------------------------\n",
            "------ Tabla del 1 ------\n",
            "-------------------------\n",
            " 1 x  1 =   1\n",
            " 1 x  2 =   2\n",
            " 1 x  3 =   3\n",
            " 1 x  4 =   4\n",
            " 1 x  5 =   5\n",
            " 1 x  6 =   6\n",
            " 1 x  7 =   7\n",
            " 1 x  8 =   8\n",
            " 1 x  9 =   9\n",
            " 1 x 10 =  10\n",
            "\n",
            "-------------------------\n",
            "------ Tabla del 2 ------\n",
            "-------------------------\n",
            " 2 x  1 =   2\n",
            " 2 x  2 =   4\n",
            " 2 x  3 =   6\n",
            " 2 x  4 =   8\n",
            " 2 x  5 =  10\n",
            " 2 x  6 =  12\n",
            " 2 x  7 =  14\n",
            " 2 x  8 =  16\n",
            " 2 x  9 =  18\n",
            " 2 x 10 =  20\n",
            "\n",
            "-------------------------\n",
            "------ Tabla del 3 ------\n",
            "-------------------------\n",
            " 3 x  1 =   3\n",
            " 3 x  2 =   6\n",
            " 3 x  3 =   9\n",
            " 3 x  4 =  12\n",
            " 3 x  5 =  15\n",
            " 3 x  6 =  18\n",
            " 3 x  7 =  21\n",
            " 3 x  8 =  24\n",
            " 3 x  9 =  27\n",
            " 3 x 10 =  30\n",
            "\n",
            "-------------------------\n",
            "------ Tabla del 4 ------\n",
            "-------------------------\n",
            " 4 x  1 =   4\n",
            " 4 x  2 =   8\n",
            " 4 x  3 =  12\n",
            " 4 x  4 =  16\n",
            " 4 x  5 =  20\n",
            " 4 x  6 =  24\n",
            " 4 x  7 =  28\n",
            " 4 x  8 =  32\n",
            " 4 x  9 =  36\n",
            " 4 x 10 =  40\n",
            "\n",
            "-------------------------\n",
            "------ Tabla del 5 ------\n",
            "-------------------------\n",
            " 5 x  1 =   5\n",
            " 5 x  2 =  10\n",
            " 5 x  3 =  15\n",
            " 5 x  4 =  20\n",
            " 5 x  5 =  25\n",
            " 5 x  6 =  30\n",
            " 5 x  7 =  35\n",
            " 5 x  8 =  40\n",
            " 5 x  9 =  45\n",
            " 5 x 10 =  50\n",
            "\n"
          ]
        }
      ]
    },
    {
      "cell_type": "code",
      "source": [
        "#27 Desarrolla un programa que encuentre todos los números perfectos hasta n.\n",
        "## Función normal\n",
        "def es_numero_perfecto(n):\n",
        "    suma_divisores = sum(i for i in range(1, n) if n % i == 0)\n",
        "    return suma_divisores == n\n",
        "\n",
        "def numeros_perfectos_hasta(n):\n",
        "    return [i for i in range(1, n + 1) if es_numero_perfecto(i)]\n",
        "\n",
        "n = int(input(\"Ingrese el límite superior: \"))\n",
        "print(\"Números perfectos encontrados:\", numeros_perfectos_hasta(n))"
      ],
      "metadata": {
        "id": "XBZE1z3VSx4X",
        "colab": {
          "base_uri": "https://localhost:8080/"
        },
        "outputId": "94ea9a7c-04e5-4ad9-bcc5-085673242c24"
      },
      "execution_count": 3,
      "outputs": [
        {
          "output_type": "stream",
          "name": "stdout",
          "text": [
            "Ingrese el límite superior: 45\n",
            "Números perfectos encontrados: [6, 28]\n"
          ]
        }
      ]
    },
    {
      "cell_type": "code",
      "source": [
        "#27 Desarrolla un programa que encuentre todos los números perfectos hasta n.\n",
        "## Función lambda\n",
        "\n",
        "es_perfecto = lambda num: num == sum(i for i in range(1, num) if num % i == 0)\n",
        "numeros_perfectos = lambda n: [i for i in range(1, n + 1) if es_perfecto(i)]\n",
        "\n",
        "n = int(input(\"Ingrese el límite superior: \"))\n",
        "print(\"Números perfectos encontrados:\", numeros_perfectos(n))"
      ],
      "metadata": {
        "id": "JygZhvyuSxN_",
        "colab": {
          "base_uri": "https://localhost:8080/"
        },
        "outputId": "d92cdded-45ff-4007-85c6-43e07b0b3d51"
      },
      "execution_count": 4,
      "outputs": [
        {
          "output_type": "stream",
          "name": "stdout",
          "text": [
            "Ingrese el límite superior: 45\n",
            "Números perfectos encontrados: [6, 28]\n"
          ]
        }
      ]
    },
    {
      "cell_type": "code",
      "source": [
        "#28 Crea un programa que genere un patrón de diamante con asteriscos.\n",
        "## Función normal\n",
        "\n",
        "def imprimir_diamante():\n",
        "    n = int(input(\"Ingrese el número de filas (mayor que 1): \"))\n",
        "    simbolo = input(\"Ingrese el símbolo para el diamante: \") or \"*\"\n",
        "\n",
        "    if n < 2:\n",
        "        print(\"El número de filas debe ser mayor que 1.\")\n",
        "        return\n",
        "\n",
        "    # Parte superior del diamante\n",
        "    for i in range(1, n + 1):\n",
        "        print(\" \" * (n - i) + simbolo * (2 * i - 1))\n",
        "\n",
        "    # Parte inferior del diamante\n",
        "    for i in range(n - 1, 0, -1):\n",
        "        print(\" \" * (n - i) + simbolo * (2 * i - 1))\n",
        "\n",
        "imprimir_diamante()"
      ],
      "metadata": {
        "colab": {
          "base_uri": "https://localhost:8080/"
        },
        "id": "DNfc3hQJS-sH",
        "outputId": "c5a63430-af74-4bb3-ed86-611fc337222e"
      },
      "execution_count": 5,
      "outputs": [
        {
          "output_type": "stream",
          "name": "stdout",
          "text": [
            "Ingrese el número de filas (mayor que 1): 7\n",
            "Ingrese el símbolo para el diamante: *\n",
            "      *\n",
            "     ***\n",
            "    *****\n",
            "   *******\n",
            "  *********\n",
            " ***********\n",
            "*************\n",
            " ***********\n",
            "  *********\n",
            "   *******\n",
            "    *****\n",
            "     ***\n",
            "      *\n"
          ]
        }
      ]
    },
    {
      "cell_type": "code",
      "source": [
        "#28 Crea un programa que genere un patrón de diamante con asteriscos.\n",
        "## Función lambda\n",
        "\n",
        "diamante = lambda n: print(\"\\n\".join([\" \" * (n - i) + \"*\" * (2 * i - 1) for i in list(range(1, n + 1)) + list(range(n - 1, 0, -1))]))\n",
        "n = int(input(\"Ingrese el número de filas: \"))\n",
        "\n",
        "diamante(n)"
      ],
      "metadata": {
        "id": "AZlAoP7zS-f3",
        "colab": {
          "base_uri": "https://localhost:8080/"
        },
        "outputId": "f793a115-8dde-4917-8317-272a8e96d59f"
      },
      "execution_count": null,
      "outputs": [
        {
          "output_type": "stream",
          "name": "stdout",
          "text": [
            "Ingrese el número de filas: 5\n",
            "    *\n",
            "   ***\n",
            "  *****\n",
            " *******\n",
            "*********\n",
            " *******\n",
            "  *****\n",
            "   ***\n",
            "    *\n"
          ]
        }
      ]
    },
    {
      "cell_type": "code",
      "source": [
        "#29 Escribe un programa que encuentre todos los números Armstrong hasta n.\n",
        "## Función normal\n",
        "\n",
        "def es_armstrong(num):\n",
        "    num_str = str(num)\n",
        "    num_digitos = len(num_str)\n",
        "    suma = sum(int(digito) ** num_digitos for digito in num_str)\n",
        "    return suma == num\n",
        "\n",
        "def encontrar_armstrong(n):\n",
        "    print(f\"Números Armstrong hasta {n}:\")\n",
        "    for i in range(1, n + 1):\n",
        "        if es_armstrong(i):\n",
        "            print(i)\n",
        "\n",
        "n = int(input(\"Ingrese un número: \"))\n",
        "encontrar_armstrong(n)"
      ],
      "metadata": {
        "id": "N-X6I5q0S-U_",
        "colab": {
          "base_uri": "https://localhost:8080/"
        },
        "outputId": "fb2670e7-3f12-41ca-f9c4-a11d60352aca"
      },
      "execution_count": 7,
      "outputs": [
        {
          "output_type": "stream",
          "name": "stdout",
          "text": [
            "Ingrese un número: 450\n",
            "Números Armstrong hasta 450:\n",
            "1\n",
            "2\n",
            "3\n",
            "4\n",
            "5\n",
            "6\n",
            "7\n",
            "8\n",
            "9\n",
            "153\n",
            "370\n",
            "371\n",
            "407\n"
          ]
        }
      ]
    },
    {
      "cell_type": "code",
      "source": [
        "#29 Escribe un programa que encuentre todos los números Armstrong hasta n.\n",
        "## Función lambda\n",
        "\n",
        "n = int(input(\"Ingrese un número: \"))\n",
        "\n",
        "es_armstrong = lambda num: num == sum(int(d) ** len(str(num)) for d in str(num))\n",
        "\n",
        "print(\"\\n\".join(map(str, filter(es_armstrong, range(1, n + 1)))))"
      ],
      "metadata": {
        "id": "tZf6LhuvS-EX",
        "colab": {
          "base_uri": "https://localhost:8080/"
        },
        "outputId": "8c5ab128-a440-4d19-e8e1-387267dd2112"
      },
      "execution_count": 6,
      "outputs": [
        {
          "output_type": "stream",
          "name": "stdout",
          "text": [
            "Ingrese un número: 789\n",
            "1\n",
            "2\n",
            "3\n",
            "4\n",
            "5\n",
            "6\n",
            "7\n",
            "8\n",
            "9\n",
            "153\n",
            "370\n",
            "371\n",
            "407\n"
          ]
        }
      ]
    },
    {
      "cell_type": "code",
      "source": [
        "#30 Desarrolla un programa que simule un reloj digital mostrando horas, minutos y segundos durante un período específico.\n",
        "## Función normal\n",
        "import time\n",
        "\n",
        "def reloj_digital(horas, minutos, segundos, duracion):\n",
        "    for _ in range(duracion):\n",
        "        print(f\"\\r{horas:02}:{minutos:02}:{segundos:02}\", end=\"\", flush=True)\n",
        "        time.sleep(1)\n",
        "        segundos = segundos + 1\n",
        "        if segundos == 60:\n",
        "            segundos = 0\n",
        "            minutos = minutos + 1\n",
        "        if minutos == 60:\n",
        "            minutos = 0\n",
        "            horas = horas + 1\n",
        "        if horas == 24:\n",
        "            horas = 0\n",
        "\n",
        "duracion = int(input(\"Ingrese la duración de la simulación en segundos: \"))\n",
        "\n",
        "reloj_digital(1, 1, 30, duracion)"
      ],
      "metadata": {
        "id": "dJ9lAhJES96H",
        "colab": {
          "base_uri": "https://localhost:8080/"
        },
        "outputId": "31c5689f-3139-4b22-9114-b7570180b4d3"
      },
      "execution_count": 8,
      "outputs": [
        {
          "output_type": "stream",
          "name": "stdout",
          "text": [
            "Ingrese la duración de la simulación en segundos: 7\n",
            "01:01:36"
          ]
        }
      ]
    },
    {
      "cell_type": "code",
      "source": [
        "#30 Desarrolla un programa que simule un reloj digital mostrando horas, minutos y segundos durante un período específico.\n",
        "## Función lambda\n",
        "import time\n",
        "\n",
        "n = int(input(\"Ingrese la duración de la simulación en segundos: \"))\n",
        "\n",
        "h, m, s = 12, 30, 45\n",
        "\n",
        "\n",
        "incrementar_tiempo = lambda h, m, s: ((h + (m + (s + 1) // 60) // 60) % 24,(m + (s + 1) // 60) % 60, (s + 1) % 60)\n",
        "\n",
        "for _ in range(n):\n",
        "    print(f\"\\r{h:02}:{m:02}:{s:02}\", end=\"\", flush=True)\n",
        "    time.sleep(1)  # Espera un segundo\n",
        "    h, m, s = incrementar_tiempo(h, m, s)"
      ],
      "metadata": {
        "id": "2A_rvK6dS9sG",
        "colab": {
          "base_uri": "https://localhost:8080/"
        },
        "outputId": "5f3f3b60-db7b-40a9-c420-2340ef7cdb51"
      },
      "execution_count": 9,
      "outputs": [
        {
          "output_type": "stream",
          "name": "stdout",
          "text": [
            "Ingrese la duración de la simulación en segundos: 6\n",
            "12:30:50"
          ]
        }
      ]
    }
  ]
}