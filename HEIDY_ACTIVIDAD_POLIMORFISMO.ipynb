{
  "nbformat": 4,
  "nbformat_minor": 0,
  "metadata": {
    "colab": {
      "provenance": [],
      "authorship_tag": "ABX9TyPalcBVxXY7pit5l8aPYM41",
      "include_colab_link": true
    },
    "kernelspec": {
      "name": "python3",
      "display_name": "Python 3"
    },
    "language_info": {
      "name": "python"
    }
  },
  "cells": [
    {
      "cell_type": "markdown",
      "metadata": {
        "id": "view-in-github",
        "colab_type": "text"
      },
      "source": [
        "<a href=\"https://colab.research.google.com/github/Heidyvhb/PROGCOM-A/blob/main/HEIDY_ACTIVIDAD_POLIMORFISMO.ipynb\" target=\"_parent\"><img src=\"https://colab.research.google.com/assets/colab-badge.svg\" alt=\"Open In Colab\"/></a>"
      ]
    },
    {
      "cell_type": "code",
      "execution_count": 1,
      "metadata": {
        "id": "wTE_XcMEO16Y"
      },
      "outputs": [],
      "source": [
        "class Auto:\n",
        "  def mover (self):\n",
        "    print (\"El auto avanza por la carretera\")\n",
        "\n",
        "class Bicicleta:\n",
        "  def mover (self):\n",
        "    print (\"La bicicleta avanza por la carril\")\n",
        "\n",
        "class Avion:\n",
        "  def mover (self):\n",
        "    print (\"El avion avanza por el cielo\")"
      ]
    },
    {
      "cell_type": "code",
      "source": [
        "# Lista de vehiculos\n",
        "vehiculos = [Auto(), Bicicleta(), Avion()]\n",
        "\n",
        "#Cada uno se mueve de forma diferente\n",
        "for v in vehiculos:\n",
        "  v.mover()"
      ],
      "metadata": {
        "id": "xGG0dGogPqQd"
      },
      "execution_count": null,
      "outputs": []
    }
  ]
}