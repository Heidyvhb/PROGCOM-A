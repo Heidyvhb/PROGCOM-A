{
  "nbformat": 4,
  "nbformat_minor": 0,
  "metadata": {
    "colab": {
      "provenance": []
    },
    "kernelspec": {
      "name": "python3",
      "display_name": "Python 3"
    },
    "language_info": {
      "name": "python"
    }
  },
  "cells": [
    {
      "cell_type": "markdown",
      "source": [
        "Heidy Valentina Blanco Hernández"
      ],
      "metadata": {
        "id": "dPU5r4qjmO7c"
      }
    },
    {
      "cell_type": "code",
      "execution_count": null,
      "metadata": {
        "id": "sMghzcYJmOQ5"
      },
      "outputs": [],
      "source": [
        "# Verifica si tres números pueden formar un triángulo y determina su tipo\n",
        "lado1 = int(input(\"Ingrese el primer lado: \"))\n",
        "lado2 = int(input(\"Ingrese el segundo lado: \"))\n",
        "lado3 = int(input(\"Ingrese el tercer lado: \"))\n",
        "\n",
        "# Validar si los lados cumplen la condición de existencia de un triángulo\n",
        "es_triangulo = lado1 + lado2 > lado3 and lado1 + lado3 > lado2 and lado2 + lado3 > lado1\n",
        "\n",
        "if es_triangulo:\n",
        "    if lado1 == lado2 == lado3:\n",
        "        tipo = \"Equilátero\"\n",
        "    elif lado1 == lado2 or lado1 == lado3 or lado2 == lado3:\n",
        "        tipo = \"Isósceles\"\n",
        "    else:\n",
        "        tipo = \"Escaleno\"\n",
        "    print(f\"Los valores ingresados forman un triángulo de tipo: {tipo}\")\n",
        "else:\n",
        "    print(\"Los valores ingresados NO forman un triángulo\")"
      ]
    },
    {
      "cell_type": "code",
      "source": [
        "# Genera y muestra la tabla de multiplicar de un número hasta el 10\n",
        "numero = int(input(\"Ingrese un número para ver su tabla de multiplicar: \"))\n",
        "\n",
        "for i in range(1, 11):\n",
        "    print(f\"{numero} x {i} = {numero * i}\")"
      ],
      "metadata": {
        "id": "ByicOySbmdUg"
      },
      "execution_count": null,
      "outputs": []
    },
    {
      "cell_type": "code",
      "source": [
        "#Escribe un programa que calcule la suma de números naturales hasta n.\n",
        "n = int(input(\"Ingrese un número: \"))\n",
        "suma = sum([i for i in range(1, n + 1)])\n",
        "\n",
        "print(f\"La suma de los números naturales desde 1 hasta {n} es: {suma}\")"
      ],
      "metadata": {
        "id": "RuxBnZgYmp8S"
      },
      "execution_count": null,
      "outputs": []
    },
    {
      "cell_type": "code",
      "source": [
        "#Desarrolla un programa que calcule el factorial de un número. Recuerda que el factorial de 0 es 1 y no existen factoriales negativos.\n",
        "x = int(input(\"Ingrese un número: \"))\n",
        "factorial = 1 if x == 0 else sum([i for i in range(1, x + 1)])\n",
        "\n",
        "print(f\"El factorial de {x} es: {factorial}\")"
      ],
      "metadata": {
        "id": "sUS75wwgmsSY"
      },
      "execution_count": null,
      "outputs": []
    },
    {
      "cell_type": "code",
      "source": [
        "#Crea un programa que muestre los primeros n números de la serie Fibonacci.\n",
        "n = int(input(\"Ingrese la cantidad de números de la serie Fibonacci que desea ver: \"))\n",
        "fibonacci = [0, 1]\n",
        "[fibonacci.append(fibonacci[-1] + fibonacci[-2]) for _ in range(n - 2)] if n > 1 else False\n",
        "\n",
        "print(fibonacci[:n])"
      ],
      "metadata": {
        "id": "Xmvtn01smwjA"
      },
      "execution_count": null,
      "outputs": []
    },
    {
      "cell_type": "code",
      "source": [
        "#Juego para adivinar un color en 10 intentos\n",
        "import random\n",
        "\n",
        "print(\"Ingresa 10 colores:\")\n",
        "lista_colores = [input(f\"Color {i+1}: \") for i in range(10)]\n",
        "\n",
        "color_secreto = input(\"Elige un color secreto: \")\n",
        "print(\"Intentaré adivinarlo en 10 intentos...\")\n",
        "\n",
        "intentos_realizados = 0\n",
        "while intentos_realizados < 10 and lista_colores:\n",
        "    intento = random.choice(lista_colores)\n",
        "    intentos_realizados += 1\n",
        "\n",
        "    print(f\"Intento {intentos_realizados}: ¿Será {intento}?\")\n",
        "\n",
        "    if intento == color_secreto:\n",
        "        print(f\"¡Adiviné! El color era {intento} y lo logré en {intentos_realizados} intentos.\")\n",
        "        break\n",
        "\n",
        "    lista_colores.remove(intento)\n",
        "else:\n",
        "    print(f\"No pude adivinarlo 😞. El color secreto era {color_secreto}.\")"
      ],
      "metadata": {
        "id": "l0iqlTrBmy9L"
      },
      "execution_count": null,
      "outputs": []
    },
    {
      "cell_type": "code",
      "source": [
        "#Mostrar los números pares del 1 al 100 en orden ascendente y descendente\n",
        "\n",
        "pares = list(range(2, 101, 2))  # Genera solo los pares directamente\n",
        "\n",
        "print(\"Lista de números pares en orden ascendente:\")\n",
        "print(pares)\n",
        "\n",
        "print(\"Lista de números pares en orden descendente:\")\n",
        "print(pares[::-1])  # Invierte la lista sin usar sort()"
      ],
      "metadata": {
        "id": "hpsOodZlm1Go"
      },
      "execution_count": null,
      "outputs": []
    },
    {
      "cell_type": "code",
      "source": [
        "#Crea un programa que calcule la suma de los dígitos de un número.\n",
        "n = input(\"Ingrese un número: \")\n",
        "\n",
        "digitos = [int(digito) for digito in n]\n",
        "print(\"Lista de dígitos:\", digitos)\n",
        "\n",
        "suma_digitos = sum(digitos)\n",
        "print(\"Suma de los dígitos:\", suma_digitos)"
      ],
      "metadata": {
        "id": "Y9bgj81Mm3M1"
      },
      "execution_count": null,
      "outputs": []
    },
    {
      "cell_type": "code",
      "source": [
        "#Determinar si un número es primo de forma eficiente\n",
        "\n",
        "def es_primo(n):\n",
        "    if n < 2:\n",
        "        return False\n",
        "    for i in range(2, int(n ** 0.5) + 1):  # Solo hasta la raíz cuadrada\n",
        "        if n % i == 0:\n",
        "            return False\n",
        "    return True\n",
        "\n",
        "num = int(input(\"Ingrese un número: \"))\n",
        "\n",
        "print(f\"El número {num} {'es primo' if es_primo(num) else 'no es primo'}\")"
      ],
      "metadata": {
        "id": "pWqLZRX9m5O5"
      },
      "execution_count": null,
      "outputs": []
    },
    {
      "cell_type": "code",
      "source": [
        "#Desarrolla un programa que muestre el patrón de un triángulo con asteriscos.\n",
        "## Suponiendo que es un triángulo rectángulo\n",
        "altura = int(input(\"Ingrese la altura del triángulo: \"))\n",
        "\n",
        "triangulo = ['*' * (i + 1) for i in range(altura)]\n",
        "\n",
        "print(\"\\n\".join(triangulo))"
      ],
      "metadata": {
        "id": "cCuGJzw2m7QW"
      },
      "execution_count": null,
      "outputs": []
    },
    {
      "cell_type": "code",
      "source": [
        "#Crea un programa que calcule la potencia de un número sin usar el operador **\n",
        "base = int(input(\"Ingrese la base: \"))\n",
        "exponente = int(input(\"Ingrese el exponente: \"))\n",
        "\n",
        "potencia = [base for _ in range(exponente)]\n",
        "resultado = 1\n",
        "for num in potencia:\n",
        "    resultado *= num\n",
        "\n",
        "print(f\"{base} elevado a la {exponente} es: {resultado}\")"
      ],
      "metadata": {
        "id": "f3xqGKZXm-Vn"
      },
      "execution_count": null,
      "outputs": []
    }
  ]
}