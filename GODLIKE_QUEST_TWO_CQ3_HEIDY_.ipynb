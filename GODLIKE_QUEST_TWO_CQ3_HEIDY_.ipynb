{
  "nbformat": 4,
  "nbformat_minor": 0,
  "metadata": {
    "colab": {
      "provenance": []
    },
    "kernelspec": {
      "name": "python3",
      "display_name": "Python 3"
    },
    "language_info": {
      "name": "python"
    }
  },
  "cells": [
    {
      "cell_type": "markdown",
      "source": [
        "**Cálculo de dosis de medicamentos**\n",
        "\n",
        "En el campo de la ingeniería biomédica, la precisión en la dosificación de medicamentos es fundamental para garantizar la seguridad y eficacia de los tratamientos. Este programa aplica principios de cálculo biomédico y programación para desarrollar una herramienta que automatiza el proceso de dosificación según el peso del paciente. Además, optimiza la administración al calcular la presentación más adecuada, ya sea en tabletas o jarabe. Este tipo de soluciones tecnológicas contribuyen a mejorar la gestión de tratamientos farmacológicos, reduciendo errores y apoyando la toma de decisiones en entornos clínicos.\n",
        "\n",
        "Por ello, el siguiente código nos ayudará a automatizar el cálculo de dosis de medicamentos, asegurando una administración precisa y segura."
      ],
      "metadata": {
        "id": "7GwC2TSXryrz"
      }
    },
    {
      "cell_type": "code",
      "source": [
        "def calcular_dosis(peso, dosis_por_kg, dosis_max):\n",
        "    \"\"\"\n",
        "    Calcula la dosis del medicamento basado en el peso del paciente.\n",
        "    Ajusta la dosis si supera la máxima recomendada.\n",
        "    \"\"\"\n",
        "    dosis = peso * dosis_por_kg\n",
        "    return min(dosis, dosis_max)\n",
        "\n",
        "\n",
        "def obtener_datos():\n",
        "    \"\"\"\n",
        "    Pide y valida el peso del paciente.\n",
        "    \"\"\"\n",
        "    while True:\n",
        "        try:\n",
        "            peso = float(input(\"Ingrese el peso del paciente (kg): \"))\n",
        "            if peso <= 0:\n",
        "                print(\"El peso debe ser mayor que 0. Intente de nuevo.\")\n",
        "                continue\n",
        "            return peso\n",
        "        except ValueError:\n",
        "            print(\"Entrada inválida. Por favor, ingrese un número válido.\")\n",
        "\n",
        "\n",
        "def seleccionar_medicamento():\n",
        "    \"\"\"\n",
        "    Muestra una lista de medicamentos con dosis predefinidas y permite seleccionar uno.\n",
        "    Ahora incluye presentación en tabletas o jarabe y la frecuencia de administración.\n",
        "    \"\"\"\n",
        "    medicamentos = {\n",
        "        1: (\"Paracetamol\", 10, 500, \"mg\", \"tableta\", 500, \"Cada 8 horas\"),\n",
        "        2: (\"Ibuprofeno\", 5, 400, \"mg\", \"tableta\", 200, \"Cada 6-8 horas\"),\n",
        "        3: (\"Amoxicilina\", 20, 1000, \"mL\", \"jarabe\", 250, \"Cada 12 horas\"),\n",
        "        4: (\"Nuevo Medicamento\", 15, 800, \"mg\", \"tableta\", 400, \"Cada 24 horas\")\n",
        "    }\n",
        "\n",
        "    print(\"\\nSeleccione un medicamento:\")\n",
        "    for key, (nombre, _, _, unidad, presentacion, _, frecuencia) in medicamentos.items():\n",
        "        print(f\"{key}. {nombre} ({presentacion} en {unidad}) - {frecuencia}\")\n",
        "\n",
        "    while True:\n",
        "        try:\n",
        "            opcion = int(input(\"Ingrese el número del medicamento: \"))\n",
        "            if opcion in medicamentos:\n",
        "                return medicamentos[opcion]\n",
        "            print(\"Opción inválida. Intente nuevamente.\")\n",
        "        except ValueError:\n",
        "            print(\"Entrada inválida. Debe ingresar un número.\")\n",
        "\n",
        "\n",
        "def calcular_presentacion(dosis_final, presentacion, cantidad_por_unidad):\n",
        "    \"\"\"\n",
        "    Convierte la dosis en número de tabletas o volumen en mL según la presentación del medicamento.\n",
        "    \"\"\"\n",
        "    if presentacion == \"tableta\":\n",
        "        num_tabletas = dosis_final / cantidad_por_unidad\n",
        "        return f\"{num_tabletas:.2f} tabletas ({cantidad_por_unidad} mg cada una)\"\n",
        "\n",
        "    elif presentacion == \"jarabe\":\n",
        "        volumen_ml = (dosis_final / cantidad_por_unidad) * 5  # Suponiendo que la concentración es X mg por cada 5 mL\n",
        "        return f\"{volumen_ml:.2f} mL de jarabe\"\n",
        "\n",
        "    return f\"{dosis_final} mg\"\n",
        "\n",
        "\n",
        "def main():\n",
        "    print(\"\\n=== Calculadora de Dosis de Medicamento ===\")\n",
        "\n",
        "    peso = obtener_datos()\n",
        "    nombre_med, dosis_por_kg, dosis_max, unidad, presentacion, cantidad_por_unidad, frecuencia = seleccionar_medicamento()\n",
        "\n",
        "    dosis_final = calcular_dosis(peso, dosis_por_kg, dosis_max)\n",
        "    dosis_presentacion = calcular_presentacion(dosis_final, presentacion, cantidad_por_unidad)\n",
        "\n",
        "    print(f\"\\n📌 Paciente de {peso} kg - Medicamento: {nombre_med}\")\n",
        "    print(f\"⚕️ Dosis recomendada: {dosis_final:.2f} {unidad} (máximo {dosis_max} {unidad})\")\n",
        "    print(f\"💊 Forma de administración: {dosis_presentacion}\")\n",
        "    print(f\"⏰ Frecuencia: {frecuencia}\")\n",
        "\n",
        "\n",
        "if __name__ == \"__main__\":\n",
        "    main()"
      ],
      "metadata": {
        "colab": {
          "base_uri": "https://localhost:8080/"
        },
        "id": "1HRTmcsjr2uo",
        "outputId": "20da9ea6-5bca-4497-aefb-6cdca18fdf60"
      },
      "execution_count": 4,
      "outputs": [
        {
          "output_type": "stream",
          "name": "stdout",
          "text": [
            "\n",
            "=== Calculadora de Dosis de Medicamento ===\n",
            "Ingrese el peso del paciente (kg): 65\n",
            "\n",
            "Seleccione un medicamento:\n",
            "1. Paracetamol (tableta en mg) - Cada 8 horas\n",
            "2. Ibuprofeno (tableta en mg) - Cada 6-8 horas\n",
            "3. Amoxicilina (jarabe en mL) - Cada 12 horas\n",
            "4. Nuevo Medicamento (tableta en mg) - Cada 24 horas\n",
            "Ingrese el número del medicamento: 3\n",
            "\n",
            "📌 Paciente de 65.0 kg - Medicamento: Amoxicilina\n",
            "⚕️ Dosis recomendada: 1000.00 mL (máximo 1000 mL)\n",
            "💊 Forma de administración: 20.00 mL de jarabe\n",
            "⏰ Frecuencia: Cada 12 horas\n"
          ]
        }
      ]
    }
  ]
}