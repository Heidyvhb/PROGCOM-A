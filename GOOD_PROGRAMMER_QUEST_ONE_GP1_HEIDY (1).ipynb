{
  "nbformat": 4,
  "nbformat_minor": 0,
  "metadata": {
    "colab": {
      "provenance": []
    },
    "kernelspec": {
      "name": "python3",
      "display_name": "Python 3"
    },
    "language_info": {
      "name": "python"
    }
  },
  "cells": [
    {
      "cell_type": "code",
      "source": [
        "import random\n",
        "\n",
        "# Diccionario para asignar emojis a las opciones\n",
        "emoji = {\"piedra\": \"🪨\", \"papel\": \"📄\", \"tijera\": \"✂️\"}\n",
        "\n",
        "def menu():\n",
        "    print(\"¿Quieres jugar piedra, papel o tijera?\")\n",
        "    print(\"--- Seleccione una opción ---\")\n",
        "    print(\"1) Sí\")\n",
        "    print(\"2) No\")\n",
        "    opcion = input(\"-> Opción: \")\n",
        "    return opcion\n",
        "\n",
        "def jugador():\n",
        "    lista = [\"piedra\", \"papel\", \"tijera\"]\n",
        "    computador = random.choice(lista)\n",
        "\n",
        "    print(\"1) 🪨 PIEDRA\")\n",
        "    print(\"2) 📄 PAPEL\")\n",
        "    print(\"3) ✂️ TIJERA\")\n",
        "    op = input(\"--> Opción: \")\n",
        "\n",
        "    while op not in [\"1\", \"2\", \"3\"]:\n",
        "        print(\"Opción no válida, intenta nuevamente.\")\n",
        "        op = input(\"---> Opción: \")\n",
        "\n",
        "    jugador = lista[int(op) - 1]\n",
        "\n",
        "    print(f\"Computador: {emoji[computador]} ({computador}) vs Jugador: {emoji[jugador]} ({jugador})\")\n",
        "\n",
        "    if jugador == computador:\n",
        "        print(\"---------> EMPATE <---------\")\n",
        "    elif (jugador == \"piedra\" and computador == \"tijera\") or \\\n",
        "         (jugador == \"papel\" and computador == \"piedra\") or \\\n",
        "         (jugador == \"tijera\" and computador == \"papel\"):\n",
        "        print(\"------------> GANASTE 🎉 <-------------\")\n",
        "    else:\n",
        "        print(\"------------> PERDISTE 😢 <-------------\")\n",
        "\n",
        "while True:\n",
        "    opcion = menu()\n",
        "    if opcion == \"1\":\n",
        "        jugador()\n",
        "    elif opcion == \"2\":\n",
        "        print(\"---------- GRACIAS POR JUGAR 🎮 ----------\")\n",
        "        break\n",
        "    else:\n",
        "        print(\"********** Opción no válida :( ***********\")\n",
        "        print(\"++++++++++ No se pase de list@ +++++++++++\")\n"
      ],
      "metadata": {
        "colab": {
          "base_uri": "https://localhost:8080/"
        },
        "id": "8laAhnzN4ncU",
        "outputId": "e1175632-ea15-4bdb-a67b-491d80cee207"
      },
      "execution_count": 1,
      "outputs": [
        {
          "output_type": "stream",
          "name": "stdout",
          "text": [
            "¿Quieres jugar piedra, papel o tijera?\n",
            "--- Seleccione una opción ---\n",
            "1) Sí\n",
            "2) No\n",
            "-> Opción: 1\n",
            "1) 🪨 PIEDRA\n",
            "2) 📄 PAPEL\n",
            "3) ✂️ TIJERA\n",
            "--> Opción: 1\n",
            "Computador: 📄 (papel) vs Jugador: 🪨 (piedra)\n",
            "------------> PERDISTE 😢 <-------------\n",
            "¿Quieres jugar piedra, papel o tijera?\n",
            "--- Seleccione una opción ---\n",
            "1) Sí\n",
            "2) No\n",
            "-> Opción: 2\n",
            "---------- GRACIAS POR JUGAR 🎮 ----------\n"
          ]
        }
      ]
    }
  ]
}