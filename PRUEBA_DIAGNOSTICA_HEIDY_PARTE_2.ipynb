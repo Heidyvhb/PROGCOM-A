{
  "nbformat": 4,
  "nbformat_minor": 0,
  "metadata": {
    "colab": {
      "provenance": []
    },
    "kernelspec": {
      "name": "python3",
      "display_name": "Python 3"
    },
    "language_info": {
      "name": "python"
    }
  },
  "cells": [
    {
      "cell_type": "markdown",
      "source": [
        "EJERCICIO 1"
      ],
      "metadata": {
        "id": "J9XBvmz7ITDy"
      }
    },
    {
      "cell_type": "code",
      "execution_count": 1,
      "metadata": {
        "colab": {
          "base_uri": "https://localhost:8080/"
        },
        "id": "E63MnslTll5H",
        "outputId": "64f03513-bfd0-42ce-87c6-68954cbcf25a"
      },
      "outputs": [
        {
          "output_type": "stream",
          "name": "stdout",
          "text": [
            "Escriba un número: 5\n",
            "5 es un número impar.\n"
          ]
        }
      ],
      "source": [
        "# Determinar si un número es par o impar\n",
        "\n",
        "# Pedir un número al usuario\n",
        "numero = int(input(\"Escriba un número: \"))\n",
        "\n",
        "# Usando condicionales para evaluar la paridad\n",
        "if numero % 2 == 0:\n",
        "    print(f\"{numero} es un número par.\")\n",
        "else:\n",
        "    print(f\"{numero} es un número impar.\")"
      ]
    },
    {
      "cell_type": "code",
      "source": [
        "# Otra forma de hacerlo con match\n",
        "numero = int(input(\"Ingrese otro número: \"))\n",
        "\n",
        "match numero % 2:\n",
        "    case 0:\n",
        "        print(f\"{numero} es un número par.\")\n",
        "    case _:\n",
        "        print(f\"{numero} es un número impar.\")"
      ],
      "metadata": {
        "colab": {
          "base_uri": "https://localhost:8080/"
        },
        "id": "m3U2_8upIbSa",
        "outputId": "cb176514-acf8-4c4c-8289-6780f6deb809"
      },
      "execution_count": 6,
      "outputs": [
        {
          "output_type": "stream",
          "name": "stdout",
          "text": [
            "Ingrese otro número: 9\n",
            "9 es un número impar.\n"
          ]
        }
      ]
    },
    {
      "cell_type": "markdown",
      "source": [
        "EJERCICIO 2"
      ],
      "metadata": {
        "id": "Lxu9BhHIIiQE"
      }
    },
    {
      "cell_type": "code",
      "source": [
        "# Programa para verificar si un año es bisiesto\n",
        "año = int(input(\"Por favor, ingrese un año: \"))\n",
        "\n",
        "# Condición para determinar si es bisiesto\n",
        "if (año % 4 == 0 and año % 100 != 0) or (año % 400 == 0):\n",
        "    print(f\"{año} es un año bisiesto.\")\n",
        "else:\n",
        "    print(f\"{año} no es un año bisiesto.\")"
      ],
      "metadata": {
        "colab": {
          "base_uri": "https://localhost:8080/"
        },
        "id": "gfRxTIPYIkAU",
        "outputId": "e6c3e13f-6049-4300-f874-39230b09c6a5"
      },
      "execution_count": 5,
      "outputs": [
        {
          "output_type": "stream",
          "name": "stdout",
          "text": [
            "Por favor, ingrese un año: 2024\n",
            "2024 es un año bisiesto.\n"
          ]
        }
      ]
    },
    {
      "cell_type": "code",
      "source": [
        "# Verificación de año bisiesto usando match-case\n",
        "año = int(input(\"Introduzca un año para verificar si es bisiesto: \"))\n",
        "\n",
        "match (año % 4 == 0, año % 100 != 0, año % 400 == 0):\n",
        "    case (True, True, _) | (_, _, True):\n",
        "        print(f\"{año} es un año bisiesto.\")\n",
        "    case _:\n",
        "        print(f\"{año} no es un año bisiesto.\")"
      ],
      "metadata": {
        "colab": {
          "base_uri": "https://localhost:8080/"
        },
        "id": "ClqRDBeOI_EF",
        "outputId": "a38add59-999f-4a6d-83ab-f082e65b2777"
      },
      "execution_count": 2,
      "outputs": [
        {
          "output_type": "stream",
          "name": "stdout",
          "text": [
            "Introduzca un año para verificar si es bisiesto: 2023\n",
            "2023 no es un año bisiesto.\n"
          ]
        }
      ]
    },
    {
      "cell_type": "markdown",
      "source": [
        "EJERCICIO 3"
      ],
      "metadata": {
        "id": "-HSltkKGMrWa"
      }
    },
    {
      "cell_type": "code",
      "source": [
        "# Programa para determinar si una persona pertenece a la tercera edad y tiene prioridad en la fila\n",
        "nombre_usuario = input(\"Por favor, introduzca su nombre: \")\n",
        "\n",
        "edad_usuario = int(input(\"Indique su edad: \"))\n",
        "\n",
        "if edad_usuario >= 70:\n",
        "    print(f\"{nombre_usuario}, usted cuenta con acceso preferencial en la fila.\")\n",
        "else:\n",
        "    print(f\"{nombre_usuario}, deberá esperar en la fila regular.\")"
      ],
      "metadata": {
        "colab": {
          "base_uri": "https://localhost:8080/"
        },
        "id": "WXDTHymKM2IZ",
        "outputId": "29dce502-fd3e-47a0-808d-1d2dc923d04c"
      },
      "execution_count": 3,
      "outputs": [
        {
          "output_type": "stream",
          "name": "stdout",
          "text": [
            "Por favor, introduzca su nombre: Heidy\n",
            "Indique su edad: 21\n",
            "Heidy, deberá esperar en la fila regular.\n"
          ]
        }
      ]
    },
    {
      "cell_type": "code",
      "source": [
        "# Alternativa usando match-case\n",
        "nombre_usuario = input(\"Por favor, introduzca su nombre: \")\n",
        "\n",
        "edad_usuario = int(input(\"Indique su edad: \"))\n",
        "\n",
        "match edad_usuario >= 70:\n",
        "    case True:\n",
        "        print(f\"{nombre_usuario}, usted cuenta con acceso preferencial en la fila.\")\n",
        "    case False:\n",
        "        print(f\"{nombre_usuario}, deberá esperar en la fila regular.\")\n"
      ],
      "metadata": {
        "colab": {
          "base_uri": "https://localhost:8080/"
        },
        "id": "eU6w-uhrNYdL",
        "outputId": "13b0bf6d-33e1-4628-8484-2ab2cf941b6a"
      },
      "execution_count": 4,
      "outputs": [
        {
          "output_type": "stream",
          "name": "stdout",
          "text": [
            "Por favor, introduzca su nombre: Heidy\n",
            "Indique su edad: 21\n",
            "Heidy, deberá esperar en la fila regular.\n"
          ]
        }
      ]
    },
    {
      "cell_type": "markdown",
      "source": [
        "EJERCICIO 4"
      ],
      "metadata": {
        "id": "0RUSKihlNnc4"
      }
    },
    {
      "cell_type": "code",
      "source": [
        "# Solicitar al usuario la longitud de los lados\n",
        "lado1 = float(input(\"Ingresa el valor del primer lado: \"))\n",
        "lado2 = float(input(\"Ingresa el valor del segundo lado: \"))\n",
        "lado3 = float(input(\"Ingresa el valor del tercer lado: \"))\n",
        "\n",
        "# Usamos match para verificar si los lados son válidos y forman un triángulo\n",
        "match (lado1 <= 0 or lado2 <= 0 or lado3 <= 0, lado1 + lado2 <= lado3 or lado1 + lado3 <= lado2 or lado2 + lado3 <= lado1):\n",
        "    case (True, _):\n",
        "        print(\"Todos los lados deben ser positivos.\")\n",
        "    case (_, True):\n",
        "        print(\"Las longitudes no forman un triángulo válido.\")\n",
        "    case (False, False):\n",
        "        # Clasificar el triángulo usando un segundo match\n",
        "        match (lado1, lado2, lado3):\n",
        "            case (a, b, c) if a == b == c:\n",
        "                print(\"Es un triángulo equilátero.\")\n",
        "            case (a, b, c) if a == b or b == c or a == c:\n",
        "                print(\"Es un triángulo isósceles.\")\n",
        "            case (a, b, c):\n",
        "                print(\"Es un triángulo escaleno.\")"
      ],
      "metadata": {
        "colab": {
          "base_uri": "https://localhost:8080/"
        },
        "id": "n1zID8nCNtiG",
        "outputId": "365dda10-2d05-4988-ee53-c410b7f45c67"
      },
      "execution_count": 7,
      "outputs": [
        {
          "output_type": "stream",
          "name": "stdout",
          "text": [
            "Ingresa el valor del primer lado: 5\n",
            "Ingresa el valor del segundo lado: 6\n",
            "Ingresa el valor del tercer lado: 7\n",
            "Es un triángulo escaleno.\n"
          ]
        }
      ]
    }
  ]
}