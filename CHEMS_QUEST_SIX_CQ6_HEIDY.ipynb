{
  "nbformat": 4,
  "nbformat_minor": 0,
  "metadata": {
    "colab": {
      "provenance": []
    },
    "kernelspec": {
      "name": "python3",
      "display_name": "Python 3"
    },
    "language_info": {
      "name": "python"
    }
  },
  "cells": [
    {
      "cell_type": "code",
      "execution_count": 2,
      "metadata": {
        "colab": {
          "base_uri": "https://localhost:8080/"
        },
        "id": "VHGuF9MegIWY",
        "outputId": "482a61bc-9575-4fa9-c4b9-d00884ebbff0"
      },
      "outputs": [
        {
          "output_type": "stream",
          "name": "stdout",
          "text": [
            "El valor es falso\n"
          ]
        }
      ],
      "source": [
        "# 1. False\n",
        "# Definición: Es un valor booleano que representa la falsedad.\n",
        "x = False\n",
        "if x == True:\n",
        "    print(\"El valor es verdadero\")\n",
        "else:\n",
        "    print(\"El valor es falso\")"
      ]
    },
    {
      "cell_type": "code",
      "source": [
        "# None\n",
        "# Definición: Representa la ausencia de un valor o un estado nulo en Python.\n",
        "# Se usa para indicar que una variable no tiene un valor definido.\n",
        "\n",
        "x = None\n",
        "\n",
        "if x == None:\n",
        "    print(\"La variable no contiene un valor asignado\")\n"
      ],
      "metadata": {
        "id": "4A8tuix1iNT2",
        "colab": {
          "base_uri": "https://localhost:8080/"
        },
        "outputId": "6e6d8cfa-02a9-4756-955a-ab5296777711"
      },
      "execution_count": 3,
      "outputs": [
        {
          "output_type": "stream",
          "name": "stdout",
          "text": [
            "La variable no contiene un valor asignado\n"
          ]
        }
      ]
    },
    {
      "cell_type": "code",
      "source": [
        "# True\n",
        "# Definición: Es un valor booleano que representa la verdad en lógica binaria.\n",
        "\n",
        "x = True\n",
        "\n",
        "if x == True:\n",
        "    print(\"El valor es verdadero\")"
      ],
      "metadata": {
        "colab": {
          "base_uri": "https://localhost:8080/"
        },
        "id": "gOffiTUfiNgN",
        "outputId": "9249256d-2a2c-4882-8e53-01c78a706d69"
      },
      "execution_count": 4,
      "outputs": [
        {
          "output_type": "stream",
          "name": "stdout",
          "text": [
            "El valor es verdadero\n"
          ]
        }
      ]
    },
    {
      "cell_type": "code",
      "source": [
        "# And\n",
        "# Definición: Operador lógico que solo devuelve True si ambas expresiones evaluadas son verdaderas.\n",
        "\n",
        "x = True\n",
        "y = False\n",
        "\n",
        "if x and y:\n",
        "    print(\"Las dos condiciones son verdaderas\")\n",
        "else:\n",
        "    print(\"Al menos una condición es falsa\")"
      ],
      "metadata": {
        "id": "qd_Lra9ciNsb",
        "colab": {
          "base_uri": "https://localhost:8080/"
        },
        "outputId": "0460b2b0-d053-4fe9-e1db-f946c3ea70a0"
      },
      "execution_count": 5,
      "outputs": [
        {
          "output_type": "stream",
          "name": "stdout",
          "text": [
            "Al menos una condición es falsa\n"
          ]
        }
      ]
    },
    {
      "cell_type": "code",
      "source": [
        "# As\n",
        "# Definición: Se utiliza para crear un alias al importar módulos o manejar excepciones.\n",
        "\n",
        "import math as matematica\n",
        "\n",
        "print(matematica.sqrt(12))"
      ],
      "metadata": {
        "id": "5EOTIGEqiNzN",
        "colab": {
          "base_uri": "https://localhost:8080/"
        },
        "outputId": "79cbd87a-feec-41f5-cce5-ec557636cfae"
      },
      "execution_count": 7,
      "outputs": [
        {
          "output_type": "stream",
          "name": "stdout",
          "text": [
            "3.4641016151377544\n"
          ]
        }
      ]
    },
    {
      "cell_type": "code",
      "source": [
        "# Assert\n",
        "# Definición: Se usa para verificar si una condición es verdadera; de lo contrario, genera un error de aserción.\n",
        "\n",
        "num = 10\n",
        "\n",
        "assert num == 10  # No genera error\n",
        "assert num < 5  # Provoca un AssertionError\n"
      ],
      "metadata": {
        "id": "EJkftIrJiN3g",
        "colab": {
          "base_uri": "https://localhost:8080/",
          "height": 176
        },
        "outputId": "8ddae6d6-ebf4-4d2d-b460-88634a358065"
      },
      "execution_count": 8,
      "outputs": [
        {
          "output_type": "error",
          "ename": "AssertionError",
          "evalue": "",
          "traceback": [
            "\u001b[0;31m---------------------------------------------------------------------------\u001b[0m",
            "\u001b[0;31mAssertionError\u001b[0m                            Traceback (most recent call last)",
            "\u001b[0;32m<ipython-input-8-7eb49b7e70d2>\u001b[0m in \u001b[0;36m<cell line: 0>\u001b[0;34m()\u001b[0m\n\u001b[1;32m      5\u001b[0m \u001b[0;34m\u001b[0m\u001b[0m\n\u001b[1;32m      6\u001b[0m \u001b[0;32massert\u001b[0m \u001b[0mnum\u001b[0m \u001b[0;34m==\u001b[0m \u001b[0;36m10\u001b[0m  \u001b[0;31m# No genera error\u001b[0m\u001b[0;34m\u001b[0m\u001b[0;34m\u001b[0m\u001b[0m\n\u001b[0;32m----> 7\u001b[0;31m \u001b[0;32massert\u001b[0m \u001b[0mnum\u001b[0m \u001b[0;34m<\u001b[0m \u001b[0;36m5\u001b[0m  \u001b[0;31m# Provoca un AssertionError\u001b[0m\u001b[0;34m\u001b[0m\u001b[0;34m\u001b[0m\u001b[0m\n\u001b[0m",
            "\u001b[0;31mAssertionError\u001b[0m: "
          ]
        }
      ]
    },
    {
      "cell_type": "code",
      "source": [
        "# Uso de break en un bucle\n",
        "# Detiene la ejecución de un ciclo cuando se cumple una condición específica.\n",
        "\n",
        "for numero in range(20):\n",
        "    if numero == 10:\n",
        "        break  # Finaliza el bucle cuando numero es 5\n",
        "    print(numero)"
      ],
      "metadata": {
        "id": "2qze73N6iN6n",
        "colab": {
          "base_uri": "https://localhost:8080/"
        },
        "outputId": "2f401337-296f-4e70-d414-276519b722af"
      },
      "execution_count": 13,
      "outputs": [
        {
          "output_type": "stream",
          "name": "stdout",
          "text": [
            "0\n",
            "1\n",
            "2\n",
            "3\n",
            "4\n",
            "5\n",
            "6\n",
            "7\n",
            "8\n",
            "9\n"
          ]
        }
      ]
    },
    {
      "cell_type": "code",
      "source": [
        "#Class\n",
        "#definicion: Se usa para definir una clase en Python.\n",
        "class Animal:\n",
        "    def hablar(self):\n",
        "        print(\"El animal hace un sonido\")\n",
        "\n",
        "mi_animal = Animal()  #\n",
        "mi_animal.hablar()\n",
        "\n"
      ],
      "metadata": {
        "colab": {
          "base_uri": "https://localhost:8080/"
        },
        "id": "y-7VGcpqiN_u",
        "outputId": "ef7ab581-ba84-4d42-ebaf-26dfb64b7c0e"
      },
      "execution_count": null,
      "outputs": [
        {
          "output_type": "stream",
          "name": "stdout",
          "text": [
            "El animal hace un sonido\n"
          ]
        }
      ]
    },
    {
      "cell_type": "code",
      "source": [
        "#Continue\n",
        "#definicion:Omite el resto del ciclo actual y pasa al siguiente ciclo del bucle.\n",
        "for i in range(10):\n",
        "    if i % 2 == 0:\n",
        "        continue\n",
        "    print(i)  # Solo imprime los números impares\n"
      ],
      "metadata": {
        "id": "v0Ah_GVEiOCL"
      },
      "execution_count": null,
      "outputs": []
    },
    {
      "cell_type": "code",
      "source": [
        "#Def\n",
        "# definicion:Se usa para definir una función.\n",
        "def saludar(nombre):\n",
        "    print(f\"Hola {nombre}\")\n",
        "\n",
        "saludar(\"Carlos\")\n"
      ],
      "metadata": {
        "id": "ZIBMU7HNiOFe"
      },
      "execution_count": null,
      "outputs": []
    },
    {
      "cell_type": "code",
      "source": [
        "#del\n",
        "# definicion:Se usa para eliminar un objeto o una variable.\n",
        "x = 10\n",
        "del x\n"
      ],
      "metadata": {
        "id": "fl-iYNm_iOIm"
      },
      "execution_count": null,
      "outputs": []
    },
    {
      "cell_type": "code",
      "source": [
        "# elif\n",
        "#definicion:se usa en una declaración if para verificar una segunda condición, si la primera es falsa.\n",
        "x = 20\n",
        "if x < 10:\n",
        "    print(\"Menor que 10\")\n",
        "elif x < 30:\n",
        "    print(\"Menor que 30\")\n"
      ],
      "metadata": {
        "id": "X6dS2ojeiOLP"
      },
      "execution_count": null,
      "outputs": []
    },
    {
      "cell_type": "code",
      "source": [
        "#else\n",
        "#definicion:Se usa para ejecutar una declaración cuando todas las condiciones previas no se cumplen.\n",
        "x = 50\n",
        "if x < 30:\n",
        "    print(\"Menor que 30\")\n",
        "else:\n",
        "    print(\"Mayor o igual a 30\")\n"
      ],
      "metadata": {
        "id": "W9cNwsgNkeDL"
      },
      "execution_count": null,
      "outputs": []
    },
    {
      "cell_type": "code",
      "source": [
        "#except\n",
        "#definicion:Se usa para manejar excepciones (errores) en bloques try.\n",
        "try:\n",
        "    x = 1 / 0\n",
        "except ZeroDivisionError:\n",
        "    print(\"No se puede dividir por cero\")\n"
      ],
      "metadata": {
        "colab": {
          "base_uri": "https://localhost:8080/"
        },
        "id": "tThXmCoZkeKu",
        "outputId": "c52a9377-e7e1-4d0f-9c4a-bc7039b1b22f"
      },
      "execution_count": null,
      "outputs": [
        {
          "output_type": "stream",
          "name": "stdout",
          "text": [
            "No se puede dividir por cero\n"
          ]
        }
      ]
    },
    {
      "cell_type": "code",
      "source": [
        "# Finally\n",
        "#definicion: Se usa para ejecutar un bloque de código sin importar si ocurrió una excepción o no.\n",
        "try:\n",
        "    x = 1 / 0\n",
        "except ZeroDivisionError:\n",
        "    print(\"Error de división\")\n",
        "finally:\n",
        "    print(\"Este bloque se ejecuta siempre\")\n",
        "\n"
      ],
      "metadata": {
        "colab": {
          "base_uri": "https://localhost:8080/"
        },
        "id": "QzQNgQnrkeOT",
        "outputId": "218b8924-eac7-484b-eb96-1f98c7e30bd2"
      },
      "execution_count": null,
      "outputs": [
        {
          "output_type": "stream",
          "name": "stdout",
          "text": [
            "Error de división\n",
            "Este bloque se ejecuta siempre\n"
          ]
        }
      ]
    },
    {
      "cell_type": "code",
      "source": [
        "# For\n",
        "# definicion: Se usa para iterar sobre una secuencia (como una lista o rango).\n",
        "for i in range(5):\n",
        "    print(i)\n"
      ],
      "metadata": {
        "id": "yrRSLAjPkeVP",
        "colab": {
          "base_uri": "https://localhost:8080/"
        },
        "outputId": "0b113334-8969-442f-fcdb-1003046655f9"
      },
      "execution_count": 14,
      "outputs": [
        {
          "output_type": "stream",
          "name": "stdout",
          "text": [
            "0\n",
            "1\n",
            "2\n",
            "3\n",
            "4\n"
          ]
        }
      ]
    },
    {
      "cell_type": "code",
      "source": [
        "#From\n",
        "# definicion:Se usa para importar una función, clase o variable de un módulo específico.\n",
        "from math import sqrt\n",
        "print(sqrt(16))\n"
      ],
      "metadata": {
        "id": "mi-e1nrZkeYe",
        "colab": {
          "base_uri": "https://localhost:8080/"
        },
        "outputId": "25bc946b-3bd9-4b4a-a68e-8ad6b8fe99ac"
      },
      "execution_count": 15,
      "outputs": [
        {
          "output_type": "stream",
          "name": "stdout",
          "text": [
            "4.0\n"
          ]
        }
      ]
    },
    {
      "cell_type": "code",
      "source": [
        "#global\n",
        "#definicion:Se usa para declarar que una variable dentro de una función se refiere a la variable global.\n",
        "x = 10\n",
        "def cambiar_valor():\n",
        "    global x\n",
        "    x = 20\n",
        "cambiar_valor()\n",
        "print(x)  # Imprime 20\n",
        "\n"
      ],
      "metadata": {
        "id": "zivjyBxwkebW",
        "colab": {
          "base_uri": "https://localhost:8080/"
        },
        "outputId": "9c2bba76-1758-44d3-a0e5-662ecfd247f0"
      },
      "execution_count": 16,
      "outputs": [
        {
          "output_type": "stream",
          "name": "stdout",
          "text": [
            "20\n"
          ]
        }
      ]
    },
    {
      "cell_type": "code",
      "source": [
        "#if\n",
        "#definicion:Se usa para realizar una comparación condicional.\n",
        "x = 10\n",
        "if x > 5:\n",
        "    print(\"Mayor que 5\")\n",
        "\n"
      ],
      "metadata": {
        "id": "xpf83jftk46b",
        "colab": {
          "base_uri": "https://localhost:8080/"
        },
        "outputId": "0f50082a-9c4a-45a0-ef3e-a7d06f70998d"
      },
      "execution_count": 17,
      "outputs": [
        {
          "output_type": "stream",
          "name": "stdout",
          "text": [
            "Mayor que 5\n"
          ]
        }
      ]
    },
    {
      "cell_type": "code",
      "source": [
        "#Import\n",
        "#definicion:Se usa para importar módulos o bibliotecas.\n",
        "import math\n",
        "print(math.sqrt(16))\n",
        "\n"
      ],
      "metadata": {
        "id": "JH1pYsYNk491",
        "colab": {
          "base_uri": "https://localhost:8080/"
        },
        "outputId": "cfea5b4c-557d-4d54-d1a2-331b96dde259"
      },
      "execution_count": 18,
      "outputs": [
        {
          "output_type": "stream",
          "name": "stdout",
          "text": [
            "4.0\n"
          ]
        }
      ]
    },
    {
      "cell_type": "code",
      "source": [
        "#In\n",
        "#definicion:Se usa para verificar si un valor está presente en una secuencia (como una lista, tupla, etc.)\n",
        "x = [1, 2, 3, 4]\n",
        "if 3 in x:\n",
        "    print(\"El número 3 está en la lista\")\n"
      ],
      "metadata": {
        "id": "s8O9J_pck5BQ",
        "colab": {
          "base_uri": "https://localhost:8080/"
        },
        "outputId": "625f52e5-9a3e-4abe-c2b8-6ded9c241653"
      },
      "execution_count": 19,
      "outputs": [
        {
          "output_type": "stream",
          "name": "stdout",
          "text": [
            "El número 3 está en la lista\n"
          ]
        }
      ]
    },
    {
      "cell_type": "code",
      "source": [
        "#is\n",
        "# definicion:e usa para verificar si dos objetos son idénticos (en términos de referencia de memoria).\n",
        "a = [1, 2, 3]\n",
        "b = a\n",
        "if a is b:\n",
        "    print(\"Son el mismo objeto\")\n"
      ],
      "metadata": {
        "id": "muEEIsOxk5EI",
        "colab": {
          "base_uri": "https://localhost:8080/"
        },
        "outputId": "93e0173e-5517-414b-c2f0-b168662e32f1"
      },
      "execution_count": 20,
      "outputs": [
        {
          "output_type": "stream",
          "name": "stdout",
          "text": [
            "Son el mismo objeto\n"
          ]
        }
      ]
    },
    {
      "cell_type": "code",
      "source": [
        "#Lambda\n",
        "#definicion:Se usa para crear funciones anónimas\n",
        "sumar = lambda a, b: a + b\n",
        "print(sumar(5, 3))  # Imprime 8\n"
      ],
      "metadata": {
        "id": "m6hToOg-rFvs",
        "colab": {
          "base_uri": "https://localhost:8080/"
        },
        "outputId": "4dfabd22-5451-44e1-808d-af531cb94649"
      },
      "execution_count": 21,
      "outputs": [
        {
          "output_type": "stream",
          "name": "stdout",
          "text": [
            "8\n"
          ]
        }
      ]
    },
    {
      "cell_type": "code",
      "source": [
        "#nonlocal\n",
        "#definicion: Se usa para declarar que una variable está en un ámbito superior al de la función.\n",
        "def contador():\n",
        "    x = 0\n",
        "    def incrementar():\n",
        "        nonlocal x\n",
        "        x += 1\n",
        "    incrementar()\n",
        "    print(x)  # Imprime 1\n",
        "contador()\n"
      ],
      "metadata": {
        "id": "P9yaMMsprF2f",
        "colab": {
          "base_uri": "https://localhost:8080/"
        },
        "outputId": "f5a080ae-59e8-47d0-ddf9-d259b325e8cd"
      },
      "execution_count": 22,
      "outputs": [
        {
          "output_type": "stream",
          "name": "stdout",
          "text": [
            "1\n"
          ]
        }
      ]
    },
    {
      "cell_type": "code",
      "source": [
        "#not\n",
        "#definicion:Operador lógico que invierte el valor de una condición.\n",
        "x = True\n",
        "if not x:\n",
        "    print(\"Es falso\")\n",
        "else:\n",
        "    print(\"Es verdadero\")\n",
        "\n"
      ],
      "metadata": {
        "id": "jiME7kGmrF5X",
        "colab": {
          "base_uri": "https://localhost:8080/"
        },
        "outputId": "e6b38f20-5204-4e6e-9266-2a53d7183613"
      },
      "execution_count": 23,
      "outputs": [
        {
          "output_type": "stream",
          "name": "stdout",
          "text": [
            "Es verdadero\n"
          ]
        }
      ]
    },
    {
      "cell_type": "code",
      "source": [
        "#Or\n",
        "#definicion:Operador lógico que devuelve True si al menos una de las condiciones es True.\n",
        "x = True\n",
        "y = False\n",
        "if x or y:\n",
        "    print(\"Al menos una condición es verdadera\")\n"
      ],
      "metadata": {
        "colab": {
          "base_uri": "https://localhost:8080/"
        },
        "id": "WXl4VWAFrF8C",
        "outputId": "e3d4264f-a3fd-46fb-9e3d-cb6fb71426cf"
      },
      "execution_count": 24,
      "outputs": [
        {
          "output_type": "stream",
          "name": "stdout",
          "text": [
            "Al menos una condición es verdadera\n"
          ]
        }
      ]
    },
    {
      "cell_type": "code",
      "source": [
        "#Pass\n",
        "#definicion:Se usa como un marcador de posición. No hace nada y se utiliza cuando se requiere sintaxis pero no se desea ejecutar código.\n",
        "def funcion_vacia():\n",
        "    pass\n"
      ],
      "metadata": {
        "id": "xvDqgTt8rF-V"
      },
      "execution_count": 25,
      "outputs": []
    },
    {
      "cell_type": "code",
      "source": [
        "#raise\n",
        "#definicion:Se usa para generar una excepción de forma manual.\n",
        "raise ValueError(\"Un error ocurrió\")\n"
      ],
      "metadata": {
        "id": "ScOnZdCKrGBu",
        "colab": {
          "base_uri": "https://localhost:8080/",
          "height": 176
        },
        "outputId": "b083d016-611c-4e00-c715-97a2927f5c8c"
      },
      "execution_count": 26,
      "outputs": [
        {
          "output_type": "error",
          "ename": "ValueError",
          "evalue": "Un error ocurrió",
          "traceback": [
            "\u001b[0;31m---------------------------------------------------------------------------\u001b[0m",
            "\u001b[0;31mValueError\u001b[0m                                Traceback (most recent call last)",
            "\u001b[0;32m<ipython-input-26-01acf31167d2>\u001b[0m in \u001b[0;36m<cell line: 0>\u001b[0;34m()\u001b[0m\n\u001b[1;32m      1\u001b[0m \u001b[0;31m#raise\u001b[0m\u001b[0;34m\u001b[0m\u001b[0;34m\u001b[0m\u001b[0m\n\u001b[1;32m      2\u001b[0m \u001b[0;31m#definicion:Se usa para generar una excepción de forma manual.\u001b[0m\u001b[0;34m\u001b[0m\u001b[0;34m\u001b[0m\u001b[0m\n\u001b[0;32m----> 3\u001b[0;31m \u001b[0;32mraise\u001b[0m \u001b[0mValueError\u001b[0m\u001b[0;34m(\u001b[0m\u001b[0;34m\"Un error ocurrió\"\u001b[0m\u001b[0;34m)\u001b[0m\u001b[0;34m\u001b[0m\u001b[0;34m\u001b[0m\u001b[0m\n\u001b[0m",
            "\u001b[0;31mValueError\u001b[0m: Un error ocurrió"
          ]
        }
      ]
    },
    {
      "cell_type": "code",
      "source": [
        "#Return\n",
        "#definicion:Se usa para devolver un valor desde una función.\n",
        "def suma(a, b):\n",
        "    return a + b\n",
        "print(suma(3, 5))\n"
      ],
      "metadata": {
        "colab": {
          "base_uri": "https://localhost:8080/"
        },
        "id": "aXAqpJuXrGDz",
        "outputId": "c3154f38-6c11-4133-b094-36f4c2083fdd"
      },
      "execution_count": 27,
      "outputs": [
        {
          "output_type": "stream",
          "name": "stdout",
          "text": [
            "8\n"
          ]
        }
      ]
    },
    {
      "cell_type": "code",
      "source": [
        "# Manejo de errores con try-except\n",
        "# Permite capturar y manejar errores durante la ejecución del programa.\n",
        "\n",
        "try:\n",
        "    valor = int(input(\"Introduce un número: \"))\n",
        "    division = 10 / valor\n",
        "    print(f\"Resultado de la operación: {division}\")\n",
        "except ValueError:\n",
        "    print(\"Error: Debes ingresar un número válido.\")\n",
        "except ZeroDivisionError:\n",
        "    print(\"Error: No es posible dividir entre cero.\")"
      ],
      "metadata": {
        "id": "iYLe6tyRt89Y"
      },
      "execution_count": null,
      "outputs": []
    }
  ]
}