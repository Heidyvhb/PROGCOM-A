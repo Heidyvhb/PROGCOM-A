{
  "nbformat": 4,
  "nbformat_minor": 0,
  "metadata": {
    "colab": {
      "provenance": []
    },
    "kernelspec": {
      "name": "python3",
      "display_name": "Python 3"
    },
    "language_info": {
      "name": "python"
    }
  },
  "cells": [
    {
      "cell_type": "markdown",
      "metadata": {
        "id": "view-in-github"
      },
      "source": [
        "<a href=\"https://colab.research.google.com/github/lamaya698/PROGCOM-A/blob/main/abstracion.ipynb\" target=\"_parent\"><img src=\"https://colab.research.google.com/assets/colab-badge.svg\" alt=\"Open In Colab\"/></a>"
      ]
    },
    {
      "cell_type": "code",
      "execution_count": 8,
      "metadata": {
        "colab": {
          "base_uri": "https://localhost:8080/"
        },
        "id": "J1mJc_T-bzbs",
        "outputId": "d5c3aea8-972c-4d91-8c01-15d9ab568d23"
      },
      "outputs": [
        {
          "output_type": "stream",
          "name": "stdout",
          "text": [
            "Nombre: Sofía, Puntaje: 13, Aprobado: True\n",
            "Nombre: Miguel, Puntaje: 7, Aprobado: True\n",
            "Nombre: David, Puntaje: 14, Aprobado: True\n",
            "Nombre: Isabel, Puntaje: 8, Aprobado: True\n"
          ]
        }
      ],
      "source": [
        "# Clase que representa a un individuo y sus detalles\n",
        "class Individuo:\n",
        "    def __init__(self, nombre, tiene_otras_tarjetas, reportado_en_riesgo, tipo_contrato,\n",
        "                 deuda_otros_creditos, deuda_misma_entidad, edad):\n",
        "        self.nombre = nombre\n",
        "        self.tiene_otras_tarjetas = tiene_otras_tarjetas\n",
        "        self.reportado_en_riesgo = reportado_en_riesgo\n",
        "        self.tipo_contrato = tipo_contrato  # 'definido' o 'indefinido'\n",
        "        self.deuda_otros_creditos = deuda_otros_creditos\n",
        "        self.deuda_misma_entidad = deuda_misma_entidad\n",
        "        self.edad = edad\n",
        "\n",
        "    def calcular_calificacion(self):\n",
        "        calificacion = 0\n",
        "\n",
        "        # Evaluación de si tiene otras tarjetas\n",
        "        if self.tiene_otras_tarjetas:\n",
        "            calificacion += 1\n",
        "\n",
        "        # Evaluación de si no está reportado en riesgo\n",
        "        if not self.reportado_en_riesgo:\n",
        "            calificacion += 3\n",
        "\n",
        "        # Evaluación del tipo de contrato\n",
        "        if self.tipo_contrato == \"definido\":\n",
        "            calificacion += 2\n",
        "        elif self.tipo_contrato == \"indefinido\":\n",
        "            calificacion += 3\n",
        "\n",
        "        # Evaluación de deudas con otras entidades\n",
        "        if self.deuda_otros_creditos:\n",
        "            calificacion += 2\n",
        "\n",
        "        # Evaluación de deudas con la misma entidad\n",
        "        if self.deuda_misma_entidad:\n",
        "            calificacion += 3\n",
        "\n",
        "        # Evaluación de la edad (rango)\n",
        "        if 18 <= self.edad <= 22:\n",
        "            calificacion += 2\n",
        "        elif 23 <= self.edad <= 30:\n",
        "            calificacion += 4\n",
        "        elif 31 <= self.edad <= 40:\n",
        "            calificacion += 3\n",
        "        elif self.edad > 41:\n",
        "            calificacion += 1\n",
        "\n",
        "        return calificacion\n",
        "\n",
        "    def obtener_estado_crediticio(self):\n",
        "        calificacion = self.calcular_calificacion()\n",
        "        return {\n",
        "            \"nombre\": self.nombre,\n",
        "            \"calificacion\": calificacion,\n",
        "            \"aprobado\": calificacion >= 6\n",
        "        }\n",
        "\n",
        "# Lista de individuos a evaluar con nombres modificados\n",
        "individuos = [\n",
        "    Individuo(\"Sofía\", True, False, \"indefinido\", True, False, 25),\n",
        "    Individuo(\"Miguel\", False, True, \"definido\", False, True, 20),\n",
        "    Individuo(\"David\", False, False, \"indefinido\", True, True, 35),\n",
        "    Individuo(\"Isabel\", True, False, \"definido\", False, False, 19),\n",
        "]\n",
        "\n",
        "# Imprimir los resultados de cada individuo\n",
        "for individuo in individuos:\n",
        "    resultado = individuo.obtener_estado_crediticio()\n",
        "    print(f\"Nombre: {resultado['nombre']}, Puntaje: {resultado['calificacion']}, Aprobado: {resultado['aprobado']}\")\n"
      ]
    }
  ]
}